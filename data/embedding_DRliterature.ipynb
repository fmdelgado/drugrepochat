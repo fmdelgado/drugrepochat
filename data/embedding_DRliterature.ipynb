{
 "cells": [
  {
   "cell_type": "markdown",
   "id": "c1eb4334-d9ff-4d3c-9ba2-3609ae37c30c",
   "metadata": {},
   "source": [
    "# Embedding a whole set of pdfs in an automatic way"
   ]
  },
  {
   "cell_type": "code",
   "execution_count": 1,
   "id": "7cdcc31d-39e3-4e5e-88e7-5b3f09ec944d",
   "metadata": {
    "tags": [],
    "ExecuteTime": {
     "end_time": "2024-04-08T09:48:11.711012Z",
     "start_time": "2024-04-08T09:47:59.921329Z"
    }
   },
   "outputs": [],
   "source": [
    "#import necessary packages\n",
    "import os\n",
    "import pandas as pd\n",
    "from fuzzywuzzy import fuzz\n",
    "from fuzzywuzzy import process\n",
    "import subprocess\n",
    "import openai\n",
    "openai.api_key = \"XXXXX\"\n",
    "os.environ[\"OPENAI_API_KEY\"] = openai.api_key"
   ]
  },
  {
   "cell_type": "markdown",
   "id": "9559431c-ede6-4e4d-a384-8b784d37179f",
   "metadata": {},
   "source": [
    "## Retrieving the original list of articles"
   ]
  },
  {
   "cell_type": "code",
   "execution_count": 50,
   "id": "23b03a9e-3b16-4486-898c-d667b85aec18",
   "metadata": {
    "tags": [],
    "ExecuteTime": {
     "end_time": "2024-04-08T10:03:10.962594Z",
     "start_time": "2024-04-08T10:03:10.673251Z"
    }
   },
   "outputs": [
    {
     "data": {
      "text/plain": "              Name                                              Title  \\\n0    Andreas Maier  HIPPIE v2.0: enhancing meaningfulness and reli...   \n1    Andreas Maier  QUADrATiC: scalable gene expression connectivi...   \n2    Andreas Maier  Drug-set enrichment analysis: a novel tool to ...   \n5    Andreas Maier  RegNetwork: an integrated database of transcri...   \n6    Andreas Maier  The Cancer Cell Line Encyclopedia enables pred...   \n..             ...                                                ...   \n375    Quirin Manz  Drug-repositioning approaches based on medical...   \n376    Quirin Manz  KG-Predict: A knowledge graph computational fr...   \n377    Quirin Manz               The Human Phenotype Ontology in 2021   \n378    Quirin Manz  Evaluation of connectivity map shows limited r...   \n379    Quirin Manz  Baseline Regularization for computational Drug...   \n\n                                               Authors    Year        PMID  \\\n0    Alanis-Lobato, Gregorio and Andrade-Navarro, M...  2017.0  27794551.0   \n1    O'Reilly, Paul G and Wen, Qing and Bankhead, P...  2016.0  27143038.0   \n2    Napolitano, Francesco and Sirci, Francesco and...  2016.0  26415724.0   \n5    Liu, Zhi-Ping and Wu, Canglin and Miao, Hongyu...  2015.0  26424082.0   \n6    Barretina, Jordi and Caponigro, Giordano and S...  2012.0  22460905.0   \n..                                                 ...     ...         ...   \n375  Zamami, Yoshito and Hamano, Hirofumi and Niimu...  2021.0  34790124.0   \n376     Gao, Zhenxiang and Ding, Pingjian and Xu, Rong  2022.0  35840060.0   \n377  Köhler, Sebastian and Gargano, Michael and Mat...  2021.0  33264411.0   \n378                  Lim, Nathaniel and Pavlidis, Paul  2021.0  34475469.0   \n379  Kuang, Zhaobin and Thomson, James and Caldwell...  2016.0  28392671.0   \n\n                               DOI  Reviewed Was there a problem? open acces?  \\\n0               10.1093/nar/gkw985       1.0                  NaN         Yes   \n1        10.1186/s12859-016-1062-1       1.0                  NaN         Yes   \n2    10.1093/bioinformatics/btv536       1.0                  NaN         Yes   \n5          10.1093/database/bav095       1.0                  NaN         Yes   \n6              10.1038/nature11003       1.0                  NaN         Yes   \n..                             ...       ...                  ...         ...   \n375      10.3389/fphar.2021.752174       1.0                  NaN         Yes   \n376      10.1016/j.jbi.2022.104133       1.0                  NaN         Yes   \n377           10.1093/nar/gkaa1043       1.0                  NaN         Yes   \n378     10.1038/s41598-021-97005-z       1.0                  NaN         Yes   \n379                            NaN       1.0                  NaN         Yes   \n\n    Unnamed: 9 collection  \n0          NaN        dbs  \n1          NaN      tools  \n2          NaN      tools  \n5          NaN        dbs  \n6          NaN        dbs  \n..         ...        ...  \n375        NaN       None  \n376        NaN      tools  \n377        NaN        dbs  \n378        NaN      tools  \n379        NaN       None  \n\n[285 rows x 11 columns]",
      "text/html": "<div>\n<style scoped>\n    .dataframe tbody tr th:only-of-type {\n        vertical-align: middle;\n    }\n\n    .dataframe tbody tr th {\n        vertical-align: top;\n    }\n\n    .dataframe thead th {\n        text-align: right;\n    }\n</style>\n<table border=\"1\" class=\"dataframe\">\n  <thead>\n    <tr style=\"text-align: right;\">\n      <th></th>\n      <th>Name</th>\n      <th>Title</th>\n      <th>Authors</th>\n      <th>Year</th>\n      <th>PMID</th>\n      <th>DOI</th>\n      <th>Reviewed</th>\n      <th>Was there a problem?</th>\n      <th>open acces?</th>\n      <th>Unnamed: 9</th>\n      <th>collection</th>\n    </tr>\n  </thead>\n  <tbody>\n    <tr>\n      <th>0</th>\n      <td>Andreas Maier</td>\n      <td>HIPPIE v2.0: enhancing meaningfulness and reli...</td>\n      <td>Alanis-Lobato, Gregorio and Andrade-Navarro, M...</td>\n      <td>2017.0</td>\n      <td>27794551.0</td>\n      <td>10.1093/nar/gkw985</td>\n      <td>1.0</td>\n      <td>NaN</td>\n      <td>Yes</td>\n      <td>NaN</td>\n      <td>dbs</td>\n    </tr>\n    <tr>\n      <th>1</th>\n      <td>Andreas Maier</td>\n      <td>QUADrATiC: scalable gene expression connectivi...</td>\n      <td>O'Reilly, Paul G and Wen, Qing and Bankhead, P...</td>\n      <td>2016.0</td>\n      <td>27143038.0</td>\n      <td>10.1186/s12859-016-1062-1</td>\n      <td>1.0</td>\n      <td>NaN</td>\n      <td>Yes</td>\n      <td>NaN</td>\n      <td>tools</td>\n    </tr>\n    <tr>\n      <th>2</th>\n      <td>Andreas Maier</td>\n      <td>Drug-set enrichment analysis: a novel tool to ...</td>\n      <td>Napolitano, Francesco and Sirci, Francesco and...</td>\n      <td>2016.0</td>\n      <td>26415724.0</td>\n      <td>10.1093/bioinformatics/btv536</td>\n      <td>1.0</td>\n      <td>NaN</td>\n      <td>Yes</td>\n      <td>NaN</td>\n      <td>tools</td>\n    </tr>\n    <tr>\n      <th>5</th>\n      <td>Andreas Maier</td>\n      <td>RegNetwork: an integrated database of transcri...</td>\n      <td>Liu, Zhi-Ping and Wu, Canglin and Miao, Hongyu...</td>\n      <td>2015.0</td>\n      <td>26424082.0</td>\n      <td>10.1093/database/bav095</td>\n      <td>1.0</td>\n      <td>NaN</td>\n      <td>Yes</td>\n      <td>NaN</td>\n      <td>dbs</td>\n    </tr>\n    <tr>\n      <th>6</th>\n      <td>Andreas Maier</td>\n      <td>The Cancer Cell Line Encyclopedia enables pred...</td>\n      <td>Barretina, Jordi and Caponigro, Giordano and S...</td>\n      <td>2012.0</td>\n      <td>22460905.0</td>\n      <td>10.1038/nature11003</td>\n      <td>1.0</td>\n      <td>NaN</td>\n      <td>Yes</td>\n      <td>NaN</td>\n      <td>dbs</td>\n    </tr>\n    <tr>\n      <th>...</th>\n      <td>...</td>\n      <td>...</td>\n      <td>...</td>\n      <td>...</td>\n      <td>...</td>\n      <td>...</td>\n      <td>...</td>\n      <td>...</td>\n      <td>...</td>\n      <td>...</td>\n      <td>...</td>\n    </tr>\n    <tr>\n      <th>375</th>\n      <td>Quirin Manz</td>\n      <td>Drug-repositioning approaches based on medical...</td>\n      <td>Zamami, Yoshito and Hamano, Hirofumi and Niimu...</td>\n      <td>2021.0</td>\n      <td>34790124.0</td>\n      <td>10.3389/fphar.2021.752174</td>\n      <td>1.0</td>\n      <td>NaN</td>\n      <td>Yes</td>\n      <td>NaN</td>\n      <td>None</td>\n    </tr>\n    <tr>\n      <th>376</th>\n      <td>Quirin Manz</td>\n      <td>KG-Predict: A knowledge graph computational fr...</td>\n      <td>Gao, Zhenxiang and Ding, Pingjian and Xu, Rong</td>\n      <td>2022.0</td>\n      <td>35840060.0</td>\n      <td>10.1016/j.jbi.2022.104133</td>\n      <td>1.0</td>\n      <td>NaN</td>\n      <td>Yes</td>\n      <td>NaN</td>\n      <td>tools</td>\n    </tr>\n    <tr>\n      <th>377</th>\n      <td>Quirin Manz</td>\n      <td>The Human Phenotype Ontology in 2021</td>\n      <td>Köhler, Sebastian and Gargano, Michael and Mat...</td>\n      <td>2021.0</td>\n      <td>33264411.0</td>\n      <td>10.1093/nar/gkaa1043</td>\n      <td>1.0</td>\n      <td>NaN</td>\n      <td>Yes</td>\n      <td>NaN</td>\n      <td>dbs</td>\n    </tr>\n    <tr>\n      <th>378</th>\n      <td>Quirin Manz</td>\n      <td>Evaluation of connectivity map shows limited r...</td>\n      <td>Lim, Nathaniel and Pavlidis, Paul</td>\n      <td>2021.0</td>\n      <td>34475469.0</td>\n      <td>10.1038/s41598-021-97005-z</td>\n      <td>1.0</td>\n      <td>NaN</td>\n      <td>Yes</td>\n      <td>NaN</td>\n      <td>tools</td>\n    </tr>\n    <tr>\n      <th>379</th>\n      <td>Quirin Manz</td>\n      <td>Baseline Regularization for computational Drug...</td>\n      <td>Kuang, Zhaobin and Thomson, James and Caldwell...</td>\n      <td>2016.0</td>\n      <td>28392671.0</td>\n      <td>NaN</td>\n      <td>1.0</td>\n      <td>NaN</td>\n      <td>Yes</td>\n      <td>NaN</td>\n      <td>None</td>\n    </tr>\n  </tbody>\n</table>\n<p>285 rows × 11 columns</p>\n</div>"
     },
     "execution_count": 50,
     "metadata": {},
     "output_type": "execute_result"
    }
   ],
   "source": [
    "# Read the XLSX file\n",
    "dataframes = pd.read_excel('WhitepaperD21.xlsx', sheet_name=['assignments', 'reviews', 'dbs', 'dbs_urls', 'tools', 'NeDRexDB-sources'])\n",
    "\n",
    "# Do further processing with the DataFrame\n",
    "# For example, print the first few rows\n",
    "\n",
    "dataframes['assignments']['open acces?'] = dataframes['assignments']['open acces?'].str.replace('WAHR', 'Yes')\n",
    "dataframes['assignments']['open acces?'] = dataframes['assignments']['open acces?'].str.replace('FALSCH', 'No')\n",
    "dataframes['assignments'] = dataframes['assignments'][dataframes['assignments']['open acces?'] == 'Yes']\n",
    "\n",
    "collections = {\n",
    "    'dbs' : set(dataframes['dbs']['Title'].to_list()),\n",
    "'reviews' : set(dataframes['reviews']['Title'].to_list()),\n",
    "'tools' : set(dataframes['tools']['Title'].to_list()),\n",
    "    \n",
    "}\n",
    "# Initialize the 'collection' column to None\n",
    "dataframes['assignments']['collection'] = None\n",
    "\n",
    "# Check each collection and update 'collection' accordingly\n",
    "for collection_name, titles in collections.items():\n",
    "    # Update the 'collection' column based on whether the title is in the current collection's set of titles\n",
    "    dataframes['assignments'].loc[dataframes['assignments']['Title'].isin(titles), 'collection'] = collection_name\n",
    "\n",
    "# Resulting DataFrame\n",
    "df = dataframes['assignments']\n",
    "df"
   ]
  },
  {
   "cell_type": "code",
   "execution_count": 51,
   "id": "2639974f-8f17-409c-ad34-9a49f6cd7a13",
   "metadata": {
    "tags": [],
    "ExecuteTime": {
     "end_time": "2024-04-08T10:03:14.098063Z",
     "start_time": "2024-04-08T10:03:12.856006Z"
    }
   },
   "outputs": [
    {
     "data": {
      "text/plain": "              Name                                              Title  \\\n0    Andreas Maier  HIPPIE v2.0: enhancing meaningfulness and reli...   \n1    Andreas Maier  QUADrATiC: scalable gene expression connectivi...   \n2    Andreas Maier  Drug-set enrichment analysis: a novel tool to ...   \n5    Andreas Maier  RegNetwork: an integrated database of transcri...   \n6    Andreas Maier  The Cancer Cell Line Encyclopedia enables pred...   \n..             ...                                                ...   \n375    Quirin Manz  Drug-repositioning approaches based on medical...   \n376    Quirin Manz  KG-Predict: A knowledge graph computational fr...   \n377    Quirin Manz               The Human Phenotype Ontology in 2021   \n378    Quirin Manz  Evaluation of connectivity map shows limited r...   \n379    Quirin Manz  Baseline Regularization for computational Drug...   \n\n                                               Authors    Year        PMID  \\\n0    Alanis-Lobato, Gregorio and Andrade-Navarro, M...  2017.0  27794551.0   \n1    O'Reilly, Paul G and Wen, Qing and Bankhead, P...  2016.0  27143038.0   \n2    Napolitano, Francesco and Sirci, Francesco and...  2016.0  26415724.0   \n5    Liu, Zhi-Ping and Wu, Canglin and Miao, Hongyu...  2015.0  26424082.0   \n6    Barretina, Jordi and Caponigro, Giordano and S...  2012.0  22460905.0   \n..                                                 ...     ...         ...   \n375  Zamami, Yoshito and Hamano, Hirofumi and Niimu...  2021.0  34790124.0   \n376     Gao, Zhenxiang and Ding, Pingjian and Xu, Rong  2022.0  35840060.0   \n377  Köhler, Sebastian and Gargano, Michael and Mat...  2021.0  33264411.0   \n378                  Lim, Nathaniel and Pavlidis, Paul  2021.0  34475469.0   \n379  Kuang, Zhaobin and Thomson, James and Caldwell...  2016.0  28392671.0   \n\n                               DOI  Reviewed Was there a problem? open acces?  \\\n0               10.1093/nar/gkw985       1.0                  NaN         Yes   \n1        10.1186/s12859-016-1062-1       1.0                  NaN         Yes   \n2    10.1093/bioinformatics/btv536       1.0                  NaN         Yes   \n5          10.1093/database/bav095       1.0                  NaN         Yes   \n6              10.1038/nature11003       1.0                  NaN         Yes   \n..                             ...       ...                  ...         ...   \n375      10.3389/fphar.2021.752174       1.0                  NaN         Yes   \n376      10.1016/j.jbi.2022.104133       1.0                  NaN         Yes   \n377           10.1093/nar/gkaa1043       1.0                  NaN         Yes   \n378     10.1038/s41598-021-97005-z       1.0                  NaN         Yes   \n379                            NaN       1.0                  NaN         Yes   \n\n    Unnamed: 9 collection                                           pdf_path  \n0          NaN        dbs  all_papers/Alanis-Lobato et al. 2017 - HIPPIE ...  \n1          NaN      tools  all_papers/O_Reilly et al. 2016 - QUADrATiC - ...  \n2          NaN      tools  all_papers/Napolitano et al. 2016 - Drug-set e...  \n5          NaN        dbs  all_papers/Liu et al. 2015 - RegNetwork - an i...  \n6          NaN        dbs  all_papers/Barretina et al. 2012 - The Cancer ...  \n..         ...        ...                                                ...  \n375        NaN       None  all_papers/Zamami et al. 2021 - Drug-Repositio...  \n376        NaN      tools  all_papers/Gao et al. 2022 - KG-Predict - A kn...  \n377        NaN        dbs  all_papers/Köhler et al. 2021 - The Human Phe...  \n378        NaN      tools  all_papers/Lim and Pavlidis 2021 - Evaluation ...  \n379        NaN       None  all_papers/Kuang et al. 2016 - Baseline Regula...  \n\n[285 rows x 12 columns]",
      "text/html": "<div>\n<style scoped>\n    .dataframe tbody tr th:only-of-type {\n        vertical-align: middle;\n    }\n\n    .dataframe tbody tr th {\n        vertical-align: top;\n    }\n\n    .dataframe thead th {\n        text-align: right;\n    }\n</style>\n<table border=\"1\" class=\"dataframe\">\n  <thead>\n    <tr style=\"text-align: right;\">\n      <th></th>\n      <th>Name</th>\n      <th>Title</th>\n      <th>Authors</th>\n      <th>Year</th>\n      <th>PMID</th>\n      <th>DOI</th>\n      <th>Reviewed</th>\n      <th>Was there a problem?</th>\n      <th>open acces?</th>\n      <th>Unnamed: 9</th>\n      <th>collection</th>\n      <th>pdf_path</th>\n    </tr>\n  </thead>\n  <tbody>\n    <tr>\n      <th>0</th>\n      <td>Andreas Maier</td>\n      <td>HIPPIE v2.0: enhancing meaningfulness and reli...</td>\n      <td>Alanis-Lobato, Gregorio and Andrade-Navarro, M...</td>\n      <td>2017.0</td>\n      <td>27794551.0</td>\n      <td>10.1093/nar/gkw985</td>\n      <td>1.0</td>\n      <td>NaN</td>\n      <td>Yes</td>\n      <td>NaN</td>\n      <td>dbs</td>\n      <td>all_papers/Alanis-Lobato et al. 2017 - HIPPIE ...</td>\n    </tr>\n    <tr>\n      <th>1</th>\n      <td>Andreas Maier</td>\n      <td>QUADrATiC: scalable gene expression connectivi...</td>\n      <td>O'Reilly, Paul G and Wen, Qing and Bankhead, P...</td>\n      <td>2016.0</td>\n      <td>27143038.0</td>\n      <td>10.1186/s12859-016-1062-1</td>\n      <td>1.0</td>\n      <td>NaN</td>\n      <td>Yes</td>\n      <td>NaN</td>\n      <td>tools</td>\n      <td>all_papers/O_Reilly et al. 2016 - QUADrATiC - ...</td>\n    </tr>\n    <tr>\n      <th>2</th>\n      <td>Andreas Maier</td>\n      <td>Drug-set enrichment analysis: a novel tool to ...</td>\n      <td>Napolitano, Francesco and Sirci, Francesco and...</td>\n      <td>2016.0</td>\n      <td>26415724.0</td>\n      <td>10.1093/bioinformatics/btv536</td>\n      <td>1.0</td>\n      <td>NaN</td>\n      <td>Yes</td>\n      <td>NaN</td>\n      <td>tools</td>\n      <td>all_papers/Napolitano et al. 2016 - Drug-set e...</td>\n    </tr>\n    <tr>\n      <th>5</th>\n      <td>Andreas Maier</td>\n      <td>RegNetwork: an integrated database of transcri...</td>\n      <td>Liu, Zhi-Ping and Wu, Canglin and Miao, Hongyu...</td>\n      <td>2015.0</td>\n      <td>26424082.0</td>\n      <td>10.1093/database/bav095</td>\n      <td>1.0</td>\n      <td>NaN</td>\n      <td>Yes</td>\n      <td>NaN</td>\n      <td>dbs</td>\n      <td>all_papers/Liu et al. 2015 - RegNetwork - an i...</td>\n    </tr>\n    <tr>\n      <th>6</th>\n      <td>Andreas Maier</td>\n      <td>The Cancer Cell Line Encyclopedia enables pred...</td>\n      <td>Barretina, Jordi and Caponigro, Giordano and S...</td>\n      <td>2012.0</td>\n      <td>22460905.0</td>\n      <td>10.1038/nature11003</td>\n      <td>1.0</td>\n      <td>NaN</td>\n      <td>Yes</td>\n      <td>NaN</td>\n      <td>dbs</td>\n      <td>all_papers/Barretina et al. 2012 - The Cancer ...</td>\n    </tr>\n    <tr>\n      <th>...</th>\n      <td>...</td>\n      <td>...</td>\n      <td>...</td>\n      <td>...</td>\n      <td>...</td>\n      <td>...</td>\n      <td>...</td>\n      <td>...</td>\n      <td>...</td>\n      <td>...</td>\n      <td>...</td>\n      <td>...</td>\n    </tr>\n    <tr>\n      <th>375</th>\n      <td>Quirin Manz</td>\n      <td>Drug-repositioning approaches based on medical...</td>\n      <td>Zamami, Yoshito and Hamano, Hirofumi and Niimu...</td>\n      <td>2021.0</td>\n      <td>34790124.0</td>\n      <td>10.3389/fphar.2021.752174</td>\n      <td>1.0</td>\n      <td>NaN</td>\n      <td>Yes</td>\n      <td>NaN</td>\n      <td>None</td>\n      <td>all_papers/Zamami et al. 2021 - Drug-Repositio...</td>\n    </tr>\n    <tr>\n      <th>376</th>\n      <td>Quirin Manz</td>\n      <td>KG-Predict: A knowledge graph computational fr...</td>\n      <td>Gao, Zhenxiang and Ding, Pingjian and Xu, Rong</td>\n      <td>2022.0</td>\n      <td>35840060.0</td>\n      <td>10.1016/j.jbi.2022.104133</td>\n      <td>1.0</td>\n      <td>NaN</td>\n      <td>Yes</td>\n      <td>NaN</td>\n      <td>tools</td>\n      <td>all_papers/Gao et al. 2022 - KG-Predict - A kn...</td>\n    </tr>\n    <tr>\n      <th>377</th>\n      <td>Quirin Manz</td>\n      <td>The Human Phenotype Ontology in 2021</td>\n      <td>Köhler, Sebastian and Gargano, Michael and Mat...</td>\n      <td>2021.0</td>\n      <td>33264411.0</td>\n      <td>10.1093/nar/gkaa1043</td>\n      <td>1.0</td>\n      <td>NaN</td>\n      <td>Yes</td>\n      <td>NaN</td>\n      <td>dbs</td>\n      <td>all_papers/Köhler et al. 2021 - The Human Phe...</td>\n    </tr>\n    <tr>\n      <th>378</th>\n      <td>Quirin Manz</td>\n      <td>Evaluation of connectivity map shows limited r...</td>\n      <td>Lim, Nathaniel and Pavlidis, Paul</td>\n      <td>2021.0</td>\n      <td>34475469.0</td>\n      <td>10.1038/s41598-021-97005-z</td>\n      <td>1.0</td>\n      <td>NaN</td>\n      <td>Yes</td>\n      <td>NaN</td>\n      <td>tools</td>\n      <td>all_papers/Lim and Pavlidis 2021 - Evaluation ...</td>\n    </tr>\n    <tr>\n      <th>379</th>\n      <td>Quirin Manz</td>\n      <td>Baseline Regularization for computational Drug...</td>\n      <td>Kuang, Zhaobin and Thomson, James and Caldwell...</td>\n      <td>2016.0</td>\n      <td>28392671.0</td>\n      <td>NaN</td>\n      <td>1.0</td>\n      <td>NaN</td>\n      <td>Yes</td>\n      <td>NaN</td>\n      <td>None</td>\n      <td>all_papers/Kuang et al. 2016 - Baseline Regula...</td>\n    </tr>\n  </tbody>\n</table>\n<p>285 rows × 12 columns</p>\n</div>"
     },
     "execution_count": 51,
     "metadata": {},
     "output_type": "execute_result"
    }
   ],
   "source": [
    "file_list = os.listdir('all_papers/')\n",
    "# Create a dictionary to map file names to paths\n",
    "file_path_dict = {}\n",
    "for file_path in file_list:\n",
    "    file_name = file_path.split('/')[-1]\n",
    "    file_path_dict[file_name] = f\"all_papers/{file_path}\"\n",
    "    \n",
    "\n",
    "# Function to find the closest matching file name\n",
    "def get_closest_match(title):\n",
    "    closest_match = process.extractOne(title, file_path_dict.keys(), scorer=fuzz.ratio)\n",
    "    if closest_match[1] >= 50:  # Adjust the threshold as per your requirements\n",
    "        return file_path_dict[closest_match[0]]\n",
    "    else:\n",
    "        return None\n",
    "df['pdf_path'] = df['Title'].apply(get_closest_match)\n",
    "df"
   ]
  },
  {
   "cell_type": "code",
   "execution_count": 52,
   "id": "26312880-3ced-4a42-8fa2-50621fb8ce99",
   "metadata": {
    "tags": [],
    "ExecuteTime": {
     "end_time": "2024-04-08T10:03:15.321116Z",
     "start_time": "2024-04-08T10:03:15.312533Z"
    }
   },
   "outputs": [
    {
     "data": {
      "text/plain": "0"
     },
     "execution_count": 52,
     "metadata": {},
     "output_type": "execute_result"
    }
   ],
   "source": [
    "df['pdf_path'].isna().sum()\n",
    "    "
   ]
  },
  {
   "cell_type": "markdown",
   "id": "8e798267-3214-4c6c-8483-68fb9a397b69",
   "metadata": {},
   "source": [
    "## Loading pdfs and adding metadata"
   ]
  },
  {
   "cell_type": "code",
   "execution_count": 53,
   "id": "f50e84f3-7a77-463a-b08a-7a71b1d0e4a5",
   "metadata": {
    "tags": [],
    "ExecuteTime": {
     "end_time": "2024-04-08T10:03:37.559324Z",
     "start_time": "2024-04-08T10:03:37.556979Z"
    }
   },
   "outputs": [],
   "source": [
    "df.loc[df.Title == 'Cancer driver drug interaction explorer', 'pdf_path'] = \"/Users/fernando/Documents/Research/ChatGPT_REPO4EU/data/d23_repo4eu/data/all_papers/Hartung et al. 2022 - Cancer driver drug interaction explorer.pdf\"\n",
    "df.loc[df.Title == 'Drug Repositioning and Target Finding Based on Clinical Evidence', 'pdf_path']  = \"/Users/fernando/Documents/Research/ChatGPT_REPO4EU/data/d23_repo4eu/data/all_papers/Kaneko and Nagashima 2020 - Drug Repositioning and Target Finding Based on Clinical Evidence.pdf\""
   ]
  },
  {
   "cell_type": "code",
   "execution_count": 54,
   "id": "61bce9eb-68ed-4368-8979-5621857f4ee5",
   "metadata": {
    "tags": [],
    "ExecuteTime": {
     "end_time": "2024-04-08T10:03:39.342088Z",
     "start_time": "2024-04-08T10:03:39.324452Z"
    }
   },
   "outputs": [
    {
     "data": {
      "text/plain": "            Name                                              Title  \\\n0  Andreas Maier  HIPPIE v2.0: enhancing meaningfulness and reli...   \n1  Andreas Maier  QUADrATiC: scalable gene expression connectivi...   \n2  Andreas Maier  Drug-set enrichment analysis: a novel tool to ...   \n5  Andreas Maier  RegNetwork: an integrated database of transcri...   \n6  Andreas Maier  The Cancer Cell Line Encyclopedia enables pred...   \n\n                                             Authors    Year        PMID  \\\n0  Alanis-Lobato, Gregorio and Andrade-Navarro, M...  2017.0  27794551.0   \n1  O'Reilly, Paul G and Wen, Qing and Bankhead, P...  2016.0  27143038.0   \n2  Napolitano, Francesco and Sirci, Francesco and...  2016.0  26415724.0   \n5  Liu, Zhi-Ping and Wu, Canglin and Miao, Hongyu...  2015.0  26424082.0   \n6  Barretina, Jordi and Caponigro, Giordano and S...  2012.0  22460905.0   \n\n                             DOI  Reviewed Was there a problem? open acces?  \\\n0             10.1093/nar/gkw985       1.0                  NaN         Yes   \n1      10.1186/s12859-016-1062-1       1.0                  NaN         Yes   \n2  10.1093/bioinformatics/btv536       1.0                  NaN         Yes   \n5        10.1093/database/bav095       1.0                  NaN         Yes   \n6            10.1038/nature11003       1.0                  NaN         Yes   \n\n  Unnamed: 9 collection                                           pdf_path  \n0        NaN        dbs  all_papers/Alanis-Lobato et al. 2017 - HIPPIE ...  \n1        NaN      tools  all_papers/O_Reilly et al. 2016 - QUADrATiC - ...  \n2        NaN      tools  all_papers/Napolitano et al. 2016 - Drug-set e...  \n5        NaN        dbs  all_papers/Liu et al. 2015 - RegNetwork - an i...  \n6        NaN        dbs  all_papers/Barretina et al. 2012 - The Cancer ...  ",
      "text/html": "<div>\n<style scoped>\n    .dataframe tbody tr th:only-of-type {\n        vertical-align: middle;\n    }\n\n    .dataframe tbody tr th {\n        vertical-align: top;\n    }\n\n    .dataframe thead th {\n        text-align: right;\n    }\n</style>\n<table border=\"1\" class=\"dataframe\">\n  <thead>\n    <tr style=\"text-align: right;\">\n      <th></th>\n      <th>Name</th>\n      <th>Title</th>\n      <th>Authors</th>\n      <th>Year</th>\n      <th>PMID</th>\n      <th>DOI</th>\n      <th>Reviewed</th>\n      <th>Was there a problem?</th>\n      <th>open acces?</th>\n      <th>Unnamed: 9</th>\n      <th>collection</th>\n      <th>pdf_path</th>\n    </tr>\n  </thead>\n  <tbody>\n    <tr>\n      <th>0</th>\n      <td>Andreas Maier</td>\n      <td>HIPPIE v2.0: enhancing meaningfulness and reli...</td>\n      <td>Alanis-Lobato, Gregorio and Andrade-Navarro, M...</td>\n      <td>2017.0</td>\n      <td>27794551.0</td>\n      <td>10.1093/nar/gkw985</td>\n      <td>1.0</td>\n      <td>NaN</td>\n      <td>Yes</td>\n      <td>NaN</td>\n      <td>dbs</td>\n      <td>all_papers/Alanis-Lobato et al. 2017 - HIPPIE ...</td>\n    </tr>\n    <tr>\n      <th>1</th>\n      <td>Andreas Maier</td>\n      <td>QUADrATiC: scalable gene expression connectivi...</td>\n      <td>O'Reilly, Paul G and Wen, Qing and Bankhead, P...</td>\n      <td>2016.0</td>\n      <td>27143038.0</td>\n      <td>10.1186/s12859-016-1062-1</td>\n      <td>1.0</td>\n      <td>NaN</td>\n      <td>Yes</td>\n      <td>NaN</td>\n      <td>tools</td>\n      <td>all_papers/O_Reilly et al. 2016 - QUADrATiC - ...</td>\n    </tr>\n    <tr>\n      <th>2</th>\n      <td>Andreas Maier</td>\n      <td>Drug-set enrichment analysis: a novel tool to ...</td>\n      <td>Napolitano, Francesco and Sirci, Francesco and...</td>\n      <td>2016.0</td>\n      <td>26415724.0</td>\n      <td>10.1093/bioinformatics/btv536</td>\n      <td>1.0</td>\n      <td>NaN</td>\n      <td>Yes</td>\n      <td>NaN</td>\n      <td>tools</td>\n      <td>all_papers/Napolitano et al. 2016 - Drug-set e...</td>\n    </tr>\n    <tr>\n      <th>5</th>\n      <td>Andreas Maier</td>\n      <td>RegNetwork: an integrated database of transcri...</td>\n      <td>Liu, Zhi-Ping and Wu, Canglin and Miao, Hongyu...</td>\n      <td>2015.0</td>\n      <td>26424082.0</td>\n      <td>10.1093/database/bav095</td>\n      <td>1.0</td>\n      <td>NaN</td>\n      <td>Yes</td>\n      <td>NaN</td>\n      <td>dbs</td>\n      <td>all_papers/Liu et al. 2015 - RegNetwork - an i...</td>\n    </tr>\n    <tr>\n      <th>6</th>\n      <td>Andreas Maier</td>\n      <td>The Cancer Cell Line Encyclopedia enables pred...</td>\n      <td>Barretina, Jordi and Caponigro, Giordano and S...</td>\n      <td>2012.0</td>\n      <td>22460905.0</td>\n      <td>10.1038/nature11003</td>\n      <td>1.0</td>\n      <td>NaN</td>\n      <td>Yes</td>\n      <td>NaN</td>\n      <td>dbs</td>\n      <td>all_papers/Barretina et al. 2012 - The Cancer ...</td>\n    </tr>\n  </tbody>\n</table>\n</div>"
     },
     "execution_count": 54,
     "metadata": {},
     "output_type": "execute_result"
    }
   ],
   "source": [
    "df.head()"
   ]
  },
  {
   "cell_type": "code",
   "execution_count": 55,
   "id": "d6f54199-6a81-4940-8aac-439aed9d144d",
   "metadata": {
    "tags": [],
    "ExecuteTime": {
     "end_time": "2024-04-08T10:03:40.726537Z",
     "start_time": "2024-04-08T10:03:40.720306Z"
    }
   },
   "outputs": [],
   "source": [
    "from langchain.document_loaders import PyPDFLoader\n",
    "from tqdm import tqdm"
   ]
  },
  {
   "cell_type": "code",
   "execution_count": 56,
   "id": "b99e6e3b-f4d5-402b-8a28-72da83e422ad",
   "metadata": {
    "scrolled": true,
    "tags": [],
    "ExecuteTime": {
     "end_time": "2024-04-08T10:09:01.102347Z",
     "start_time": "2024-04-08T10:03:53.335538Z"
    }
   },
   "outputs": [
    {
     "name": "stderr",
     "output_type": "stream",
     "text": [
      "19it [00:12,  2.94it/s]Multiple definitions in dictionary at byte 0x26cf2 for key /MediaBox\n",
      "Multiple definitions in dictionary at byte 0x2713f for key /MediaBox\n",
      "Multiple definitions in dictionary at byte 0x272fd for key /MediaBox\n",
      "Multiple definitions in dictionary at byte 0x2753e for key /MediaBox\n",
      "Multiple definitions in dictionary at byte 0x276b7 for key /MediaBox\n",
      "Multiple definitions in dictionary at byte 0x278e8 for key /MediaBox\n",
      "Multiple definitions in dictionary at byte 0x27a6e for key /MediaBox\n",
      "Multiple definitions in dictionary at byte 0x27c84 for key /MediaBox\n",
      "Multiple definitions in dictionary at byte 0x27e6d for key /MediaBox\n",
      "Multiple definitions in dictionary at byte 0x280a6 for key /MediaBox\n",
      "Multiple definitions in dictionary at byte 0x2832f for key /MediaBox\n",
      "Multiple definitions in dictionary at byte 0x285c0 for key /MediaBox\n",
      "262it [04:58,  2.40it/s]Multiple definitions in dictionary at byte 0xf25e for key /MediaBox\n",
      "Multiple definitions in dictionary at byte 0xf51d for key /MediaBox\n",
      "Multiple definitions in dictionary at byte 0xf6b3 for key /MediaBox\n",
      "Multiple definitions in dictionary at byte 0xf839 for key /MediaBox\n",
      "Multiple definitions in dictionary at byte 0xf9c7 for key /MediaBox\n",
      "Multiple definitions in dictionary at byte 0xfbc8 for key /MediaBox\n",
      "276it [05:03,  3.74it/s]invalid pdf header: b'<html'\n",
      "EOF marker not found\n",
      "EOF marker not found\n"
     ]
    },
    {
     "name": "stdout",
     "output_type": "stream",
     "text": [
      "article not found!\n",
      "Advancing drug repurposing research: Trends, collaborative networks, innovation and knowledge leaders\n"
     ]
    },
    {
     "name": "stderr",
     "output_type": "stream",
     "text": [
      "285it [05:07,  1.08s/it]\n"
     ]
    }
   ],
   "source": [
    "list_of_documents = []\n",
    "\n",
    "for index, row in tqdm(df.iterrows()):\n",
    "    if \"data\" not in row['pdf_path']:\n",
    "        filepath = \"/Users/fernando/Documents/Research/ChatGPT_REPO4EU/data/d23_repo4eu/data/\" + row['pdf_path']\n",
    "    else:\n",
    "        filepath = row['pdf_path']\n",
    "    \n",
    "    try:\n",
    "        loader = PyPDFLoader(filepath)\n",
    "        document = loader.load_and_split()\n",
    "        \n",
    "        for i in range(len(document)):\n",
    "            document[i].page_content = document[i].page_content.split(\"\\nReferences\\n\")[0]\n",
    "            document[i].metadata.update(row.to_dict())\n",
    "        list_of_documents.extend(document)\n",
    "    except:\n",
    "        print(f\"article not found!\\n{row['Title']}\")"
   ]
  },
  {
   "cell_type": "markdown",
   "id": "1b51af9c-5942-4fb1-bef0-eca8bb3de1bb",
   "metadata": {
    "tags": []
   },
   "source": [
    "### Embedding and vector-storing"
   ]
  },
  {
   "cell_type": "code",
   "execution_count": 9,
   "id": "bc71a3bc-e87c-47d1-ae03-d96b57737cd5",
   "metadata": {},
   "outputs": [],
   "source": [
    "sublist_docs = list_of_documents[:5]"
   ]
  },
  {
   "cell_type": "markdown",
   "id": "ba84b625-7f72-48fa-8e4b-57de6b1a8fdf",
   "metadata": {},
   "source": [
    "#### FAISS implementation"
   ]
  },
  {
   "cell_type": "code",
   "execution_count": 57,
   "id": "4472000b-4704-4909-b7a4-0d14d5200db0",
   "metadata": {
    "tags": [],
    "ExecuteTime": {
     "end_time": "2024-04-08T10:10:02.024956Z",
     "start_time": "2024-04-08T10:09:01.100600Z"
    }
   },
   "outputs": [],
   "source": [
    "from langchain.vectorstores import FAISS\n",
    "from langchain.embeddings.openai import OpenAIEmbeddings\n",
    "\n",
    "my_embedding_model = OpenAIEmbeddings()\n",
    "\n",
    "vectordb = FAISS.from_documents(\n",
    "    documents=list_of_documents,\n",
    "    embedding=my_embedding_model)"
   ]
  },
  {
   "cell_type": "code",
   "execution_count": 64,
   "id": "2bd6d144-aaac-4d07-b009-17ee00241c85",
   "metadata": {
    "ExecuteTime": {
     "end_time": "2024-04-08T10:50:15.442102Z",
     "start_time": "2024-04-08T10:50:15.416521Z"
    }
   },
   "outputs": [
    {
     "ename": "RuntimeError",
     "evalue": "Error in void faiss::write_index(const faiss::Index *, faiss::IOWriter *) at /Users/runner/work/faiss-wheels/faiss-wheels/faiss/faiss/impl/index_write.cpp:821: don't know how to serialize this type of index",
     "output_type": "error",
     "traceback": [
      "\u001B[0;31m---------------------------------------------------------------------------\u001B[0m",
      "\u001B[0;31mRuntimeError\u001B[0m                              Traceback (most recent call last)",
      "\u001B[0;32m/var/folders/6t/jky9cnrn65x9gfpghzmvfpqh0000gp/T/ipykernel_48198/1681376518.py\u001B[0m in \u001B[0;36m?\u001B[0;34m()\u001B[0m\n\u001B[1;32m     28\u001B[0m \u001B[0;34m\u001B[0m\u001B[0m\n\u001B[1;32m     29\u001B[0m     \u001B[0;32mreturn\u001B[0m \u001B[0mVectorDB\u001B[0m\u001B[0;34m\u001B[0m\u001B[0;34m\u001B[0m\u001B[0m\n\u001B[1;32m     30\u001B[0m \u001B[0;34m\u001B[0m\u001B[0m\n\u001B[1;32m     31\u001B[0m \u001B[0;34m\u001B[0m\u001B[0m\n\u001B[0;32m---> 32\u001B[0;31m \u001B[0mstore_index_in_db\u001B[0m\u001B[0;34m(\u001B[0m\u001B[0mvectordb\u001B[0m\u001B[0;34m,\u001B[0m \u001B[0;34m\"repo4euD21openaccess\"\u001B[0m\u001B[0;34m)\u001B[0m\u001B[0;34m\u001B[0m\u001B[0;34m\u001B[0m\u001B[0m\n\u001B[0m",
      "\u001B[0;32m/var/folders/6t/jky9cnrn65x9gfpghzmvfpqh0000gp/T/ipykernel_48198/1681376518.py\u001B[0m in \u001B[0;36m?\u001B[0;34m(index, name)\u001B[0m\n\u001B[1;32m     13\u001B[0m \u001B[0;32mdef\u001B[0m \u001B[0mstore_index_in_db\u001B[0m\u001B[0;34m(\u001B[0m\u001B[0mindex\u001B[0m\u001B[0;34m,\u001B[0m \u001B[0mname\u001B[0m\u001B[0;34m)\u001B[0m\u001B[0;34m:\u001B[0m\u001B[0;34m\u001B[0m\u001B[0;34m\u001B[0m\u001B[0m\n\u001B[0;32m---> 14\u001B[0;31m     \u001B[0mfaiss\u001B[0m\u001B[0;34m.\u001B[0m\u001B[0mwrite_index\u001B[0m\u001B[0;34m(\u001B[0m\u001B[0mindex\u001B[0m\u001B[0;34m.\u001B[0m\u001B[0mindex\u001B[0m\u001B[0;34m,\u001B[0m \u001B[0;34m\"docs.index\"\u001B[0m\u001B[0;34m)\u001B[0m\u001B[0;34m\u001B[0m\u001B[0;34m\u001B[0m\u001B[0m\n\u001B[0m\u001B[1;32m     15\u001B[0m     \u001B[0;31m# Open the file and dump to local storage\u001B[0m\u001B[0;34m\u001B[0m\u001B[0;34m\u001B[0m\u001B[0m\n\u001B[1;32m     16\u001B[0m     \u001B[0mwrite_file\u001B[0m\u001B[0;34m(\u001B[0m\u001B[0;34mf\"{name}.index\"\u001B[0m\u001B[0;34m,\u001B[0m \u001B[0mread_file\u001B[0m\u001B[0;34m(\u001B[0m\u001B[0;34m\"docs.index\"\u001B[0m\u001B[0;34m)\u001B[0m\u001B[0;34m)\u001B[0m\u001B[0;34m\u001B[0m\u001B[0;34m\u001B[0m\u001B[0m\n\u001B[1;32m     17\u001B[0m     \u001B[0mindex\u001B[0m\u001B[0;34m.\u001B[0m\u001B[0mindex\u001B[0m \u001B[0;34m=\u001B[0m \u001B[0;32mNone\u001B[0m\u001B[0;34m\u001B[0m\u001B[0;34m\u001B[0m\u001B[0m\n",
      "\u001B[0;32m~/opt/anaconda3/envs/drugrepochat/lib/python3.10/site-packages/faiss/swigfaiss.py\u001B[0m in \u001B[0;36m?\u001B[0;34m(*args)\u001B[0m\n\u001B[1;32m   9917\u001B[0m \u001B[0;32mdef\u001B[0m \u001B[0mwrite_index\u001B[0m\u001B[0;34m(\u001B[0m\u001B[0;34m*\u001B[0m\u001B[0margs\u001B[0m\u001B[0;34m)\u001B[0m\u001B[0;34m:\u001B[0m\u001B[0;34m\u001B[0m\u001B[0;34m\u001B[0m\u001B[0m\n\u001B[0;32m-> 9918\u001B[0;31m     \u001B[0;32mreturn\u001B[0m \u001B[0m_swigfaiss\u001B[0m\u001B[0;34m.\u001B[0m\u001B[0mwrite_index\u001B[0m\u001B[0;34m(\u001B[0m\u001B[0;34m*\u001B[0m\u001B[0margs\u001B[0m\u001B[0;34m)\u001B[0m\u001B[0;34m\u001B[0m\u001B[0;34m\u001B[0m\u001B[0m\n\u001B[0m",
      "\u001B[0;31mRuntimeError\u001B[0m: Error in void faiss::write_index(const faiss::Index *, faiss::IOWriter *) at /Users/runner/work/faiss-wheels/faiss-wheels/faiss/faiss/impl/index_write.cpp:821: don't know how to serialize this type of index"
     ]
    }
   ],
   "source": [
    "import faiss\n",
    "import pickle\n",
    "\n",
    "def write_file(filename, content):\n",
    "    with open(filename, 'wb') as file:\n",
    "        file.write(content)\n",
    "\n",
    "\n",
    "def read_file(filename):\n",
    "    with open(filename, 'rb') as file:\n",
    "        return file.read()\n",
    "\n",
    "def store_index_in_db(index, name):\n",
    "    faiss.write_index(index.index, \"docs.index\")\n",
    "    # Open the file and dump to local storage\n",
    "    write_file(f\"{name}.index\", read_file(\"docs.index\"))\n",
    "    index.index = None\n",
    "    write_file(f\"{name}.pkl\", pickle.dumps(index))\n",
    "\n",
    "\n",
    "def load_index_from_db(index_name):\n",
    "    findex = read_file(f\"{index_name}.index\")\n",
    "\n",
    "    write_file(\"docs.index\", findex)\n",
    "    index = faiss.read_index(\"docs.index\")\n",
    "    VectorDB = pickle.loads(read_file(f\"{index_name}.pkl\"))\n",
    "    VectorDB.index = index\n",
    "\n",
    "    return VectorDB\n",
    "\n",
    "\n",
    "store_index_in_db(vectordb, \"repo4euD21openaccess\")"
   ]
  },
  {
   "cell_type": "code",
   "execution_count": 59,
   "id": "18219c9a-703d-42e3-ad6c-f6bd2bd4d9e9",
   "metadata": {
    "ExecuteTime": {
     "end_time": "2024-04-08T10:10:02.396033Z",
     "start_time": "2024-04-08T10:10:02.213107Z"
    }
   },
   "outputs": [],
   "source": [
    "index = load_index_from_db(\"repo4euD21openaccess\")\n"
   ]
  },
  {
   "cell_type": "code",
   "execution_count": 60,
   "id": "9b3c6bda-91e3-47b2-b380-73278f4c5127",
   "metadata": {
    "tags": [],
    "ExecuteTime": {
     "end_time": "2024-04-08T10:10:02.401751Z",
     "start_time": "2024-04-08T10:10:02.396919Z"
    }
   },
   "outputs": [
    {
     "name": "stdout",
     "output_type": "stream",
     "text": [
      "5761\n",
      "5761\n"
     ]
    }
   ],
   "source": [
    "print(len(list_of_documents))\n",
    "print(len(index.docstore._dict))"
   ]
  },
  {
   "cell_type": "markdown",
   "id": "44aa726c-edc5-450f-ac7d-ef48b156399c",
   "metadata": {
    "tags": []
   },
   "source": [
    "## Similarity searches"
   ]
  },
  {
   "cell_type": "code",
   "execution_count": 41,
   "id": "150eca19-3fc7-434a-bd5e-17ee724c3a7f",
   "metadata": {
    "tags": [],
    "ExecuteTime": {
     "end_time": "2023-07-31T08:43:08.335726Z",
     "start_time": "2023-07-31T08:43:08.091899Z"
    }
   },
   "outputs": [
    {
     "data": {
      "text/plain": "[Document(page_content='3 \\n 1. Introduction  1 \\nDrug repurposing (DR) is the process of identifying new therapeutic applications for existing drugs 2 \\n[1]. Over the past few years, pharmaceutical industries have hugely invested in the repositioning  of 3 \\napproved  and withdrawn  drugs  as traditional  drug development  is an extremely  expensive, 4 \\nlaborious, time -consuming, and highly failure -prone avenue  [2-6]. DR especially finds its 5 \\napplication in rare and  neglected diseases where there are very few or no drugs available for 6 \\ntreatment  [7]. The US -FDA has provided a list of approved pharmaceuticals that can be promising 7 \\ndrug candidates for  repurposing in rare disea ses [8]. Nonetheless, it has always been an endeavour  to 8 \\nidentify drugs  that are equipotent  to such orphan  drugs.  DR also finds  its application  in 9 \\ninfectious  diseases such  as tuberculosis [ 9-15], HIV and other communicable diseases where multi - 10 \\ndrug resistance is a  major  problem  [16-18]. Currently,  DR is also used to identify  promising  drugs  11 \\nfor non-communicable diseases  like cancer  [19], neurological  [20], inflammatory bowel disease  [21] 12 \\nand cardi ovascular diseases  [22-23]. For this purpose, both experimental and computational DR 13 \\napproaches have been used to identify potential  candidates for several diseases  [24]. Experimental 14 \\ndrug repurposing approaches majorly include proteomics techniques  [25-26] and in vitro  high 15 \\nthroughput screenings  [27] whereas chemoinformatics, data -driven and statistical methods involving 16 \\ngene -target -disease level associations and structural analysis of existing drugs are the computational 17 \\napproaches  [28-32]. Also, the adva ncement in computational drug discovery processes has proved 18 \\nhelpful in identifying potential lead molecules in various studies  [33-42]. Moreover, the availability  19 \\nof enormous  data related to the physicochemical and pharmacological properties of existing  drugs 20 \\nand clinical trial information of prospective drug molecules has further aided in  identifying  21 \\npromising  candidates  for DR [43-46]. Hence the 21st century pharmaceutical science is largely 22 \\ndependent on the synergistic use of data -driven and experiment al approaches to drug repositioning.  23 \\nOver the past few  decades, several dozens drugs have been repurposed successfully for many new 24 \\nindications outside the scope of their native therapeutic application using experimental, in silico  and 25 \\ndata driven approac hes [47]. It is therefore imperative to instil newer data analytical methods to 26 \\nmake a substantial effort in designing effective therapeutics. Statistical and data driven approaches 27 \\nare mostly dependent on the structure of drug molecules  [48]. There are ma ny freely available drug 28 \\ndatabases like DrugBank  [49], DrugCental  [50], PubChem  [51], Therapeutic Target Database (TTD)  29 \\n[52], CenterWatch  [53], United States Food and Drug Administration (US -FDA)  [54] which 30 \\nprovides physicochemical and pharmacological profiles of approved drugs across all the major 31 \\nregulatory bodies like FDA, Health Canada, EMA, etc.  32 \\nSignificant efforts have been made to analyze  these drugs using statistical and machine learning 33 \\nappro aches based on the available enormous data  [55]. Consequently, descriptor  analysis  of 34 \\nJournal Pre-proof', metadata={'source': '/Users/fernando/Documents/Research/ChatGPT_REPO4EU/data/d23_repo4eu/data/all_papers/Madugula et al. 2021 - Molecular descriptor analysis of approved drugs using unsupervised learning for drug repurposing.pdf', 'page': 4, 'Title': 'Molecular descriptor analysis of approved drugs using unsupervised learning for drug repurposing', 'Name': 'Name', 'Year Published': 2021.0, 'DOI': 'doi.org/10.1016/j.compbiomed.2021.104856', 'Pubmed Citations': 1.0, 'Method': 'machine learning', 'Strategy': 'mechanism-based, target-based', 'Usability': 'Not available', 'Input': 'Molecular structure classification (descriptor), drug-target data, target-disease data ', 'Output': 'List of potential drug repurposing candidates and associated disease', 'Task Relevance': nan, 'PMID': 34555571.0, 'Labels': 'M1: machine learning | S1: mechanism-based | S1: target-based | U: Not available |', 'Note': 'Input: Molecular structure classification (descriptor), drug-target data, target-disease data Output: List of potential drug repurposing candidates and associated disease  Summary: After employing a molecular descriptor analysis on the chemical structure of drugs, their potential to be repurposed for other indications is scored via unsupervised learning (PCA, k-means clustering). ', 'pdf_path': 'all_papers/Madugula et al. 2021 - Molecular descriptor analysis of approved drugs using unsupervised learning for drug repurposing.pdf'}),\n Document(page_content='INTRODUCTION\\nDrug repurposing, or repositioning,1is the quest to identify new\\nuses for existing drugs. It holds great promise for both patients andindustry, as it significantly reduces the costs and time-to-market ofnew medications compared to de novo drug discovery.\\n2To date, the\\nmost notable repurposed drugs have been discovered either throughserendipity, based on specific pharmacological insights, or using ex-perimental screening platforms.\\n2,3To accelerate and increase the\\nscale of such discoveries, numerous computational methods havebeen suggested to aid in drug repurposing (see reviews in refs\\n3–8).\\nFor example, a popular approach, which can be applied to different\\ndata types, represents drugs and/or diseases as feature vectors (aka“signatures” or “profiles”), and measures the similarity betweenthese entities or trains a prediction model for drug–diseaseassociations.\\nIn the healthcare domain, the term “real-world data” refers to\\ninformation collected outside the clinical research settings; for ex-ample, in electronic health records (EHRs) or claims and billingdata.\\n9Such data offer important advantages in terms of volume and\\ntimeline span, alongside some inherent challenges such as data irreg-ularity and incompleteness. Recently, real-world data have been in-creasingly leveraged for various healthcare applications.\\n10In the\\ncontext of drug repurposing, observational data are increasinglyused to provide external validation to existing drug repurposing hy-potheses. For example, Xu et al\\n11used EHR data to validate the as-\\nsociation of metformin with reduced cancer mortality. In contrast,there are far fewer examples for utilizing observational data to gen-\\nerate new drug repurposing hypotheses. Paik et al\\n12derived drug\\nand disease similarities from EHR data and then combined thesesimilarities to score drug–disease pairs and suggest novel drug repur-posing hypotheses. Kuang et al\\n13leveraged patient-level longitudinal\\ninformation available in EHRs and applied the Self-Controlled CaseSeries study design, widely used to identify adverse drug reactions,\\n14\\nto suggest new drugs that can control fasting blood glucose levels.Wu et al\\n15employed a multivariable Cox regression model to assess\\nthe effect of 146 noncancer drugs on cancer survival in EHR data.Suchard et al\\n16utilized EHR and claims databases to estimate the ef-\\nficacy and safety profile of multiple first-line drug classes for hyper-tension treatment. They calculated the hazard ratios of thecompared classes with Cox models, after stratifying or matchingpatients by propensity score.\\nConducting a randomized controlled trial (RCT), the gold stan-\\ndard for validating the efficacy of a candidate drug, is costly andlengthy. To identify promising repurposing candidates, we proposea framework that emulates RCTs for on-market drugs using obser-\\nvational real-world data. We apply causal inference methodologiesto correct for confounding bias in treatment assignment, treatmentduration, and informative censoring.\\n17Our framework is configura-\\nble, allowing for the specification of inclusion criteria, disease out-come, and potential confounders.\\nAs a test case, we applied the described drug repurposing frame-\\nwork to Parkinson’s disease (PD). To date, all drugs indicated forPD are approved for treating its symptoms and none was shown toslow the progression of the disease.\\n18We emulated RCTs for hun-\\ndreds of drugs, including PD indicated drugs, estimating their effecton three disease progression outcomes. To assess the robustness ofour framework, we tested the agreement of the estimated effectsacross different causal inference methods and databases. We focushere on the methodological aspects of our framework and the meansto validate its results. A discussion of the identified drug candidatesfor PD and their clinical validity appears in Laifenfeld et al.\\n19To the', metadata={'source': 'all_papers/Ozery-Flato et al. 2020 - Framework for identifying drug repurposing candidates from observational healthcare data.pdf', 'page': 1, 'Title': 'Framework for identifying drug repurposing candidates from observational healthcare data', 'Name': 'Name', 'Year Published': 2020.0, 'DOI': 'doi.org/10.1093/jamiaopen/ooaa048', 'Pubmed Citations': 9.0, 'Method': 'machine learning', 'Strategy': 'phenotype-based', 'Usability': 'Not available', 'Input': 'Observational healthcare data', 'Output': 'Predicted new drug indications', 'Task Relevance': '2.4', 'PMID': 33623890.0, 'Labels': 'M1: machine learning | S3: phenotype-based | T2.4: Indication Drug | U: Not available |', 'Note': 'Input: Observational healthcare data Output: Predicted new drug indications  Summary: The authors present a framework for finding drug repurposing candidates by emulating randomized controlled trials (RTC) using medical databases and causal inference methodology.\\xa0', 'pdf_path': 'all_papers/Ozery-Flato et al. 2020 - Framework for identifying drug repurposing candidates from observational healthcare data.pdf'}),\n Document(page_content='passing from preclinical development to Phase I clinical \\nstudies [ 7], alternative strategies are needed. Drug repur -\\nposing is an attractive strategy to identify novel treat -\\nment options given that it may reduce R&D timelines by \\n3–5\\xa0years, have less development costs and the improved \\nquality of success [ 8, 9]. The concept of drug repurpos -\\ning is not new and many new drug indications have been \\nidentified serendipitously. The classic cases include Silde -\\nnafil that was initially approved for angina but repur -\\nposed for erectile dysfunction and Canakinumab which Open Access\\n*Correspondence:  davidjwild@indiana.edu; anshu@imtech.res.in\\n2 Academy of  Scientific and  Innovative Research, Council of  Scientific \\nand Industrial Research, Training and Development Complex, CSIR \\nCampus, CSIR Road, Taramani, Chennai, Tamil Nadu 600113, India\\n3 School of  Informatics, Computing, and  Engineering, Indiana University, \\nBloomington, IN 47405, USA\\nFull list of author information is available at the end of the article', metadata={'source': '/Users/fernando/Documents/Research/ChatGPT_REPO4EU/data/d23_repo4eu/data/all_papers/Passi et al. 2018 - RepTB - a gene ontology based drug repurposing approach for tuberculosis.pdf', 'page': 0, 'Title': 'RepTB: a gene ontology based drug repurposing approach for tuberculosis', 'Name': 'Name', 'Year Published': 2018.0, 'DOI': 'doi.org/10.1186/s13321-018-0276-9', 'Pubmed Citations': 4.0, 'Method': 'network models, comp. val.', 'Strategy': 'knowledge-based', 'Usability': 'Code', 'Input': 'Drug-target interactions (DrugBank), GO mapping information (QuickGO), chemical structure similarity between known and predicted drugs for prioritized targets', 'Output': 'List of predicted drug-target interactions that may have a synergistic bactericidal effect against TB and may be suitable for further validation as potential starting points in the TB drug discovery pipeline.', 'Task Relevance': '2.4, 2.6, 2.8', 'PMID': 29785561.0, 'Labels': 'M2: network models | M4: comp. val. | S1: knowledge-based | T2.4: Indication Drug | T2.6: Drugs Complex Diseases | T2.8: Comp. Validation | U: Code |', 'Note': 'input:\\xa0Data about known drug-target interactions, which is obtained from the DrugBank database., , Gene Ontology (GO) mapping information, which is downloaded from the QuickGO database of the European Bioinformatics Institute (EBI). This information is used to enrich the network with molecular function ontology., , The Gene Ontology-based network, which is constructed based on the known drug-target interactions and the GO mapping information., , Parameters for the Network Based Inference (NBI) analysis, which is used to compute association scores for the identification of new drug-target interactions., , Evidence-based criteria for evaluating the potential of predicted drug-target interactions as drug repurposing candidates for TB., , Information about the chemical structure similarity between known and predicted drugs for prioritized targets, which is used to assess the chemical diversity of the predicted drug-target interactions.   output: list of predicted drug-target interactions that may have a synergistic bactericidal effect against TB and may be suitable for further validation as potential starting points in the TB drug discovery pipeline.   1sentsum:\\xa0\\xa0drug repurposing method for tuberculosis (TB) that aims to identify novel drug-target interactions for the treatment of TB. The method uses a Gene Ontology-based network, which contains information about known drug-target pairs and their molecular functions, to predict novel drug-target interactions. The association scores computed from this network are then used to identify potential drug repurposing candidates for TB.\\xa0  ', 'pdf_path': 'all_papers/Passi et al. 2018 - RepTB - a gene ontology based drug repurposing approach for tuberculosis.pdf'})]"
     },
     "execution_count": 41,
     "metadata": {},
     "output_type": "execute_result"
    }
   ],
   "source": [
    "question = \"what is drug repurposing?\"\n",
    "docs = index.similarity_search(question, k=3)\n",
    "docs"
   ]
  },
  {
   "cell_type": "markdown",
   "id": "358e61a6-3f84-486d-b32f-e166e2af8538",
   "metadata": {},
   "source": [
    "## Question answering"
   ]
  },
  {
   "cell_type": "code",
   "execution_count": 63,
   "id": "16d3f060-01f1-4c95-8409-a919ff808b4c",
   "metadata": {
    "tags": [],
    "ExecuteTime": {
     "end_time": "2024-04-08T10:49:42.891957Z",
     "start_time": "2024-04-08T10:49:42.889965Z"
    }
   },
   "outputs": [
    {
     "ename": "RuntimeError",
     "evalue": "Error in faiss::FileIOReader::FileIOReader(const char *) at /Users/runner/work/faiss-wheels/faiss-wheels/faiss/faiss/impl/io.cpp:68: Error: 'f' failed: could not open repo4euD21openaccess/index.faiss for reading: No such file or directory",
     "output_type": "error",
     "traceback": [
      "\u001B[0;31m---------------------------------------------------------------------------\u001B[0m",
      "\u001B[0;31mRuntimeError\u001B[0m                              Traceback (most recent call last)",
      "\u001B[0;32m/var/folders/6t/jky9cnrn65x9gfpghzmvfpqh0000gp/T/ipykernel_48198/2493530217.py\u001B[0m in \u001B[0;36m?\u001B[0;34m()\u001B[0m\n\u001B[1;32m      8\u001B[0m \u001B[0mos\u001B[0m\u001B[0;34m.\u001B[0m\u001B[0menviron\u001B[0m\u001B[0;34m[\u001B[0m\u001B[0;34m\"OPENAI_API_KEY\"\u001B[0m\u001B[0;34m]\u001B[0m \u001B[0;34m=\u001B[0m \u001B[0mopenai\u001B[0m\u001B[0;34m.\u001B[0m\u001B[0mapi_key\u001B[0m\u001B[0;34m\u001B[0m\u001B[0;34m\u001B[0m\u001B[0m\n\u001B[1;32m      9\u001B[0m \u001B[0;34m\u001B[0m\u001B[0m\n\u001B[1;32m     10\u001B[0m \u001B[0;34m\u001B[0m\u001B[0m\n\u001B[1;32m     11\u001B[0m \u001B[0mmy_embedding_model\u001B[0m \u001B[0;34m=\u001B[0m \u001B[0mOpenAIEmbeddings\u001B[0m\u001B[0;34m(\u001B[0m\u001B[0;34m)\u001B[0m\u001B[0;34m\u001B[0m\u001B[0;34m\u001B[0m\u001B[0m\n\u001B[0;32m---> 12\u001B[0;31m \u001B[0mvectordb2\u001B[0m \u001B[0;34m=\u001B[0m \u001B[0mFAISS\u001B[0m\u001B[0;34m.\u001B[0m\u001B[0mload_local\u001B[0m\u001B[0;34m(\u001B[0m\u001B[0;34m\"repo4euD21openaccess\"\u001B[0m\u001B[0;34m,\u001B[0m \u001B[0mmy_embedding_model\u001B[0m\u001B[0;34m)\u001B[0m\u001B[0;34m\u001B[0m\u001B[0;34m\u001B[0m\u001B[0m\n\u001B[0m\u001B[1;32m     13\u001B[0m \u001B[0;34m\u001B[0m\u001B[0m\n\u001B[1;32m     14\u001B[0m \u001B[0;34m\u001B[0m\u001B[0m\n",
      "\u001B[0;32m~/opt/anaconda3/envs/drugrepochat/lib/python3.10/site-packages/langchain/vectorstores/faiss.py\u001B[0m in \u001B[0;36m?\u001B[0;34m(cls, folder_path, embeddings, index_name, **kwargs)\u001B[0m\n\u001B[1;32m    652\u001B[0m         \"\"\"\n\u001B[1;32m    653\u001B[0m         \u001B[0mpath\u001B[0m \u001B[0;34m=\u001B[0m \u001B[0mPath\u001B[0m\u001B[0;34m(\u001B[0m\u001B[0mfolder_path\u001B[0m\u001B[0;34m)\u001B[0m\u001B[0;34m\u001B[0m\u001B[0;34m\u001B[0m\u001B[0m\n\u001B[1;32m    654\u001B[0m         \u001B[0;31m# load index separately since it is not picklable\u001B[0m\u001B[0;34m\u001B[0m\u001B[0;34m\u001B[0m\u001B[0m\n\u001B[1;32m    655\u001B[0m         \u001B[0mfaiss\u001B[0m \u001B[0;34m=\u001B[0m \u001B[0mdependable_faiss_import\u001B[0m\u001B[0;34m(\u001B[0m\u001B[0;34m)\u001B[0m\u001B[0;34m\u001B[0m\u001B[0;34m\u001B[0m\u001B[0m\n\u001B[0;32m--> 656\u001B[0;31m         index = faiss.read_index(\n\u001B[0m\u001B[1;32m    657\u001B[0m             \u001B[0mstr\u001B[0m\u001B[0;34m(\u001B[0m\u001B[0mpath\u001B[0m \u001B[0;34m/\u001B[0m \u001B[0;34m\"{index_name}.faiss\"\u001B[0m\u001B[0;34m.\u001B[0m\u001B[0mformat\u001B[0m\u001B[0;34m(\u001B[0m\u001B[0mindex_name\u001B[0m\u001B[0;34m=\u001B[0m\u001B[0mindex_name\u001B[0m\u001B[0;34m)\u001B[0m\u001B[0;34m)\u001B[0m\u001B[0;34m\u001B[0m\u001B[0;34m\u001B[0m\u001B[0m\n\u001B[1;32m    658\u001B[0m         )\n\u001B[1;32m    659\u001B[0m \u001B[0;34m\u001B[0m\u001B[0m\n",
      "\u001B[0;32m~/opt/anaconda3/envs/drugrepochat/lib/python3.10/site-packages/faiss/swigfaiss.py\u001B[0m in \u001B[0;36m?\u001B[0;34m(*args)\u001B[0m\n\u001B[1;32m   9923\u001B[0m \u001B[0;32mdef\u001B[0m \u001B[0mread_index\u001B[0m\u001B[0;34m(\u001B[0m\u001B[0;34m*\u001B[0m\u001B[0margs\u001B[0m\u001B[0;34m)\u001B[0m\u001B[0;34m:\u001B[0m\u001B[0;34m\u001B[0m\u001B[0;34m\u001B[0m\u001B[0m\n\u001B[0;32m-> 9924\u001B[0;31m     \u001B[0;32mreturn\u001B[0m \u001B[0m_swigfaiss\u001B[0m\u001B[0;34m.\u001B[0m\u001B[0mread_index\u001B[0m\u001B[0;34m(\u001B[0m\u001B[0;34m*\u001B[0m\u001B[0margs\u001B[0m\u001B[0;34m)\u001B[0m\u001B[0;34m\u001B[0m\u001B[0;34m\u001B[0m\u001B[0m\n\u001B[0m",
      "\u001B[0;31mRuntimeError\u001B[0m: Error in faiss::FileIOReader::FileIOReader(const char *) at /Users/runner/work/faiss-wheels/faiss-wheels/faiss/faiss/impl/io.cpp:68: Error: 'f' failed: could not open repo4euD21openaccess/index.faiss for reading: No such file or directory"
     ]
    }
   ],
   "source": [
    "from langchain.chat_models import ChatOpenAI\n",
    "from langchain.chains import RetrievalQA\n",
    "from langchain.embeddings.openai import OpenAIEmbeddings\n",
    "import os \n",
    "import openai\n",
    "\n",
    "\n",
    "os.environ[\"OPENAI_API_KEY\"] = openai.api_key\n",
    "\n",
    "\n",
    "my_embedding_model = OpenAIEmbeddings()\n",
    "vectordb2 = FAISS.load_local(\"repo4euD21openaccess\", my_embedding_model)\n",
    "\n"
   ]
  },
  {
   "cell_type": "code",
   "execution_count": 66,
   "id": "741b27d6-e757-41b8-8c61-65a18cd431fc",
   "metadata": {
    "ExecuteTime": {
     "end_time": "2024-04-08T10:51:09.990786Z",
     "start_time": "2024-04-08T10:51:09.988280Z"
    }
   },
   "outputs": [],
   "source": [
    "from langchain.prompts import ChatPromptTemplate\n",
    "from langchain.prompts import PromptTemplate, ChatPromptTemplate, HumanMessagePromptTemplate\n",
    "\n",
    "# Build prompt\n",
    "\n",
    "prompt = ChatPromptTemplate(\n",
    "    messages=[\n",
    "        HumanMessagePromptTemplate.from_template(\"\"\"You are great at answering questions about drug repurposing in a concise\\\n",
    "                                                    and easy to understand manner. \\\n",
    "                                                    When you don't know the answer to a question you admit that you don't know\\\n",
    "                                                    Here is a question:\\\n",
    "                                                    {user_prompt}\"\"\")  \n",
    "    ],\n",
    "    input_variables=[\"user_prompt\"])\n",
    "\n",
    "\n",
    "label_query = prompt.format_prompt(user_prompt=\"Who is Yajie Meng?\")\n",
    "\n"
   ]
  },
  {
   "cell_type": "code",
   "execution_count": 67,
   "id": "53fb4f43-1ab9-49e2-a10a-5e5a660f047b",
   "metadata": {
    "tags": [],
    "ExecuteTime": {
     "end_time": "2024-04-08T10:51:27.746951Z",
     "start_time": "2024-04-08T10:51:11.127620Z"
    }
   },
   "outputs": [
    {
     "name": "stderr",
     "output_type": "stream",
     "text": [
      "Retrying langchain.embeddings.openai.embed_with_retry.<locals>._embed_with_retry in 4.0 seconds as it raised APIConnectionError: Error communicating with OpenAI: ('Connection aborted.', RemoteDisconnected('Remote end closed connection without response')).\n"
     ]
    },
    {
     "name": "stdout",
     "output_type": "stream",
     "text": [
      "\n",
      "\n",
      "\u001B[1m> Entering new RetrievalQA chain...\u001B[0m\n"
     ]
    },
    {
     "name": "stderr",
     "output_type": "stream",
     "text": [
      "Retrying langchain.chat_models.openai.ChatOpenAI.completion_with_retry.<locals>._completion_with_retry in 1.0 seconds as it raised RateLimitError: You exceeded your current quota, please check your plan and billing details. For more information on this error, read the docs: https://platform.openai.com/docs/guides/error-codes/api-errors..\n",
      "Retrying langchain.chat_models.openai.ChatOpenAI.completion_with_retry.<locals>._completion_with_retry in 2.0 seconds as it raised RateLimitError: You exceeded your current quota, please check your plan and billing details. For more information on this error, read the docs: https://platform.openai.com/docs/guides/error-codes/api-errors..\n",
      "Retrying langchain.chat_models.openai.ChatOpenAI.completion_with_retry.<locals>._completion_with_retry in 4.0 seconds as it raised RateLimitError: You exceeded your current quota, please check your plan and billing details. For more information on this error, read the docs: https://platform.openai.com/docs/guides/error-codes/api-errors..\n",
      "Retrying langchain.chat_models.openai.ChatOpenAI.completion_with_retry.<locals>._completion_with_retry in 8.0 seconds as it raised RateLimitError: You exceeded your current quota, please check your plan and billing details. For more information on this error, read the docs: https://platform.openai.com/docs/guides/error-codes/api-errors..\n"
     ]
    },
    {
     "ename": "KeyboardInterrupt",
     "evalue": "",
     "output_type": "error",
     "traceback": [
      "\u001B[0;31m---------------------------------------------------------------------------\u001B[0m",
      "\u001B[0;31mKeyboardInterrupt\u001B[0m                         Traceback (most recent call last)",
      "Cell \u001B[0;32mIn[67], line 17\u001B[0m\n\u001B[1;32m     15\u001B[0m \u001B[38;5;66;03m# Question\u001B[39;00m\n\u001B[1;32m     16\u001B[0m query \u001B[38;5;241m=\u001B[39m \u001B[38;5;124m\"\u001B[39m\u001B[38;5;124mWho is Yajie Meng?\u001B[39m\u001B[38;5;124m\"\u001B[39m\n\u001B[0;32m---> 17\u001B[0m llm_response \u001B[38;5;241m=\u001B[39m \u001B[43mqa_chain\u001B[49m\u001B[43m(\u001B[49m\u001B[43mprompt\u001B[49m\u001B[38;5;241;43m.\u001B[39;49m\u001B[43mformat_prompt\u001B[49m\u001B[43m(\u001B[49m\u001B[43muser_prompt\u001B[49m\u001B[38;5;241;43m=\u001B[39;49m\u001B[43mquery\u001B[49m\u001B[43m)\u001B[49m\u001B[38;5;241;43m.\u001B[39;49m\u001B[43mto_string\u001B[49m\u001B[43m(\u001B[49m\u001B[43m)\u001B[49m\u001B[43m)\u001B[49m\n\u001B[1;32m     18\u001B[0m process_llm_response(llm_response)\n",
      "File \u001B[0;32m~/opt/anaconda3/envs/drugrepochat/lib/python3.10/site-packages/langchain/chains/base.py:243\u001B[0m, in \u001B[0;36mChain.__call__\u001B[0;34m(self, inputs, return_only_outputs, callbacks, tags, metadata, include_run_info)\u001B[0m\n\u001B[1;32m    241\u001B[0m \u001B[38;5;28;01mexcept\u001B[39;00m (\u001B[38;5;167;01mKeyboardInterrupt\u001B[39;00m, \u001B[38;5;167;01mException\u001B[39;00m) \u001B[38;5;28;01mas\u001B[39;00m e:\n\u001B[1;32m    242\u001B[0m     run_manager\u001B[38;5;241m.\u001B[39mon_chain_error(e)\n\u001B[0;32m--> 243\u001B[0m     \u001B[38;5;28;01mraise\u001B[39;00m e\n\u001B[1;32m    244\u001B[0m run_manager\u001B[38;5;241m.\u001B[39mon_chain_end(outputs)\n\u001B[1;32m    245\u001B[0m final_outputs: Dict[\u001B[38;5;28mstr\u001B[39m, Any] \u001B[38;5;241m=\u001B[39m \u001B[38;5;28mself\u001B[39m\u001B[38;5;241m.\u001B[39mprep_outputs(\n\u001B[1;32m    246\u001B[0m     inputs, outputs, return_only_outputs\n\u001B[1;32m    247\u001B[0m )\n",
      "File \u001B[0;32m~/opt/anaconda3/envs/drugrepochat/lib/python3.10/site-packages/langchain/chains/base.py:237\u001B[0m, in \u001B[0;36mChain.__call__\u001B[0;34m(self, inputs, return_only_outputs, callbacks, tags, metadata, include_run_info)\u001B[0m\n\u001B[1;32m    231\u001B[0m run_manager \u001B[38;5;241m=\u001B[39m callback_manager\u001B[38;5;241m.\u001B[39mon_chain_start(\n\u001B[1;32m    232\u001B[0m     dumpd(\u001B[38;5;28mself\u001B[39m),\n\u001B[1;32m    233\u001B[0m     inputs,\n\u001B[1;32m    234\u001B[0m )\n\u001B[1;32m    235\u001B[0m \u001B[38;5;28;01mtry\u001B[39;00m:\n\u001B[1;32m    236\u001B[0m     outputs \u001B[38;5;241m=\u001B[39m (\n\u001B[0;32m--> 237\u001B[0m         \u001B[38;5;28;43mself\u001B[39;49m\u001B[38;5;241;43m.\u001B[39;49m\u001B[43m_call\u001B[49m\u001B[43m(\u001B[49m\u001B[43minputs\u001B[49m\u001B[43m,\u001B[49m\u001B[43m \u001B[49m\u001B[43mrun_manager\u001B[49m\u001B[38;5;241;43m=\u001B[39;49m\u001B[43mrun_manager\u001B[49m\u001B[43m)\u001B[49m\n\u001B[1;32m    238\u001B[0m         \u001B[38;5;28;01mif\u001B[39;00m new_arg_supported\n\u001B[1;32m    239\u001B[0m         \u001B[38;5;28;01melse\u001B[39;00m \u001B[38;5;28mself\u001B[39m\u001B[38;5;241m.\u001B[39m_call(inputs)\n\u001B[1;32m    240\u001B[0m     )\n\u001B[1;32m    241\u001B[0m \u001B[38;5;28;01mexcept\u001B[39;00m (\u001B[38;5;167;01mKeyboardInterrupt\u001B[39;00m, \u001B[38;5;167;01mException\u001B[39;00m) \u001B[38;5;28;01mas\u001B[39;00m e:\n\u001B[1;32m    242\u001B[0m     run_manager\u001B[38;5;241m.\u001B[39mon_chain_error(e)\n",
      "File \u001B[0;32m~/opt/anaconda3/envs/drugrepochat/lib/python3.10/site-packages/langchain/chains/retrieval_qa/base.py:131\u001B[0m, in \u001B[0;36mBaseRetrievalQA._call\u001B[0;34m(self, inputs, run_manager)\u001B[0m\n\u001B[1;32m    129\u001B[0m \u001B[38;5;28;01melse\u001B[39;00m:\n\u001B[1;32m    130\u001B[0m     docs \u001B[38;5;241m=\u001B[39m \u001B[38;5;28mself\u001B[39m\u001B[38;5;241m.\u001B[39m_get_docs(question)  \u001B[38;5;66;03m# type: ignore[call-arg]\u001B[39;00m\n\u001B[0;32m--> 131\u001B[0m answer \u001B[38;5;241m=\u001B[39m \u001B[38;5;28;43mself\u001B[39;49m\u001B[38;5;241;43m.\u001B[39;49m\u001B[43mcombine_documents_chain\u001B[49m\u001B[38;5;241;43m.\u001B[39;49m\u001B[43mrun\u001B[49m\u001B[43m(\u001B[49m\n\u001B[1;32m    132\u001B[0m \u001B[43m    \u001B[49m\u001B[43minput_documents\u001B[49m\u001B[38;5;241;43m=\u001B[39;49m\u001B[43mdocs\u001B[49m\u001B[43m,\u001B[49m\u001B[43m \u001B[49m\u001B[43mquestion\u001B[49m\u001B[38;5;241;43m=\u001B[39;49m\u001B[43mquestion\u001B[49m\u001B[43m,\u001B[49m\u001B[43m \u001B[49m\u001B[43mcallbacks\u001B[49m\u001B[38;5;241;43m=\u001B[39;49m\u001B[43m_run_manager\u001B[49m\u001B[38;5;241;43m.\u001B[39;49m\u001B[43mget_child\u001B[49m\u001B[43m(\u001B[49m\u001B[43m)\u001B[49m\n\u001B[1;32m    133\u001B[0m \u001B[43m\u001B[49m\u001B[43m)\u001B[49m\n\u001B[1;32m    135\u001B[0m \u001B[38;5;28;01mif\u001B[39;00m \u001B[38;5;28mself\u001B[39m\u001B[38;5;241m.\u001B[39mreturn_source_documents:\n\u001B[1;32m    136\u001B[0m     \u001B[38;5;28;01mreturn\u001B[39;00m {\u001B[38;5;28mself\u001B[39m\u001B[38;5;241m.\u001B[39moutput_key: answer, \u001B[38;5;124m\"\u001B[39m\u001B[38;5;124msource_documents\u001B[39m\u001B[38;5;124m\"\u001B[39m: docs}\n",
      "File \u001B[0;32m~/opt/anaconda3/envs/drugrepochat/lib/python3.10/site-packages/langchain/chains/base.py:445\u001B[0m, in \u001B[0;36mChain.run\u001B[0;34m(self, callbacks, tags, metadata, *args, **kwargs)\u001B[0m\n\u001B[1;32m    440\u001B[0m     \u001B[38;5;28;01mreturn\u001B[39;00m \u001B[38;5;28mself\u001B[39m(args[\u001B[38;5;241m0\u001B[39m], callbacks\u001B[38;5;241m=\u001B[39mcallbacks, tags\u001B[38;5;241m=\u001B[39mtags, metadata\u001B[38;5;241m=\u001B[39mmetadata)[\n\u001B[1;32m    441\u001B[0m         _output_key\n\u001B[1;32m    442\u001B[0m     ]\n\u001B[1;32m    444\u001B[0m \u001B[38;5;28;01mif\u001B[39;00m kwargs \u001B[38;5;129;01mand\u001B[39;00m \u001B[38;5;129;01mnot\u001B[39;00m args:\n\u001B[0;32m--> 445\u001B[0m     \u001B[38;5;28;01mreturn\u001B[39;00m \u001B[38;5;28;43mself\u001B[39;49m\u001B[43m(\u001B[49m\u001B[43mkwargs\u001B[49m\u001B[43m,\u001B[49m\u001B[43m \u001B[49m\u001B[43mcallbacks\u001B[49m\u001B[38;5;241;43m=\u001B[39;49m\u001B[43mcallbacks\u001B[49m\u001B[43m,\u001B[49m\u001B[43m \u001B[49m\u001B[43mtags\u001B[49m\u001B[38;5;241;43m=\u001B[39;49m\u001B[43mtags\u001B[49m\u001B[43m,\u001B[49m\u001B[43m \u001B[49m\u001B[43mmetadata\u001B[49m\u001B[38;5;241;43m=\u001B[39;49m\u001B[43mmetadata\u001B[49m\u001B[43m)\u001B[49m[\n\u001B[1;32m    446\u001B[0m         _output_key\n\u001B[1;32m    447\u001B[0m     ]\n\u001B[1;32m    449\u001B[0m \u001B[38;5;28;01mif\u001B[39;00m \u001B[38;5;129;01mnot\u001B[39;00m kwargs \u001B[38;5;129;01mand\u001B[39;00m \u001B[38;5;129;01mnot\u001B[39;00m args:\n\u001B[1;32m    450\u001B[0m     \u001B[38;5;28;01mraise\u001B[39;00m \u001B[38;5;167;01mValueError\u001B[39;00m(\n\u001B[1;32m    451\u001B[0m         \u001B[38;5;124m\"\u001B[39m\u001B[38;5;124m`run` supported with either positional arguments or keyword arguments,\u001B[39m\u001B[38;5;124m\"\u001B[39m\n\u001B[1;32m    452\u001B[0m         \u001B[38;5;124m\"\u001B[39m\u001B[38;5;124m but none were provided.\u001B[39m\u001B[38;5;124m\"\u001B[39m\n\u001B[1;32m    453\u001B[0m     )\n",
      "File \u001B[0;32m~/opt/anaconda3/envs/drugrepochat/lib/python3.10/site-packages/langchain/chains/base.py:243\u001B[0m, in \u001B[0;36mChain.__call__\u001B[0;34m(self, inputs, return_only_outputs, callbacks, tags, metadata, include_run_info)\u001B[0m\n\u001B[1;32m    241\u001B[0m \u001B[38;5;28;01mexcept\u001B[39;00m (\u001B[38;5;167;01mKeyboardInterrupt\u001B[39;00m, \u001B[38;5;167;01mException\u001B[39;00m) \u001B[38;5;28;01mas\u001B[39;00m e:\n\u001B[1;32m    242\u001B[0m     run_manager\u001B[38;5;241m.\u001B[39mon_chain_error(e)\n\u001B[0;32m--> 243\u001B[0m     \u001B[38;5;28;01mraise\u001B[39;00m e\n\u001B[1;32m    244\u001B[0m run_manager\u001B[38;5;241m.\u001B[39mon_chain_end(outputs)\n\u001B[1;32m    245\u001B[0m final_outputs: Dict[\u001B[38;5;28mstr\u001B[39m, Any] \u001B[38;5;241m=\u001B[39m \u001B[38;5;28mself\u001B[39m\u001B[38;5;241m.\u001B[39mprep_outputs(\n\u001B[1;32m    246\u001B[0m     inputs, outputs, return_only_outputs\n\u001B[1;32m    247\u001B[0m )\n",
      "File \u001B[0;32m~/opt/anaconda3/envs/drugrepochat/lib/python3.10/site-packages/langchain/chains/base.py:237\u001B[0m, in \u001B[0;36mChain.__call__\u001B[0;34m(self, inputs, return_only_outputs, callbacks, tags, metadata, include_run_info)\u001B[0m\n\u001B[1;32m    231\u001B[0m run_manager \u001B[38;5;241m=\u001B[39m callback_manager\u001B[38;5;241m.\u001B[39mon_chain_start(\n\u001B[1;32m    232\u001B[0m     dumpd(\u001B[38;5;28mself\u001B[39m),\n\u001B[1;32m    233\u001B[0m     inputs,\n\u001B[1;32m    234\u001B[0m )\n\u001B[1;32m    235\u001B[0m \u001B[38;5;28;01mtry\u001B[39;00m:\n\u001B[1;32m    236\u001B[0m     outputs \u001B[38;5;241m=\u001B[39m (\n\u001B[0;32m--> 237\u001B[0m         \u001B[38;5;28;43mself\u001B[39;49m\u001B[38;5;241;43m.\u001B[39;49m\u001B[43m_call\u001B[49m\u001B[43m(\u001B[49m\u001B[43minputs\u001B[49m\u001B[43m,\u001B[49m\u001B[43m \u001B[49m\u001B[43mrun_manager\u001B[49m\u001B[38;5;241;43m=\u001B[39;49m\u001B[43mrun_manager\u001B[49m\u001B[43m)\u001B[49m\n\u001B[1;32m    238\u001B[0m         \u001B[38;5;28;01mif\u001B[39;00m new_arg_supported\n\u001B[1;32m    239\u001B[0m         \u001B[38;5;28;01melse\u001B[39;00m \u001B[38;5;28mself\u001B[39m\u001B[38;5;241m.\u001B[39m_call(inputs)\n\u001B[1;32m    240\u001B[0m     )\n\u001B[1;32m    241\u001B[0m \u001B[38;5;28;01mexcept\u001B[39;00m (\u001B[38;5;167;01mKeyboardInterrupt\u001B[39;00m, \u001B[38;5;167;01mException\u001B[39;00m) \u001B[38;5;28;01mas\u001B[39;00m e:\n\u001B[1;32m    242\u001B[0m     run_manager\u001B[38;5;241m.\u001B[39mon_chain_error(e)\n",
      "File \u001B[0;32m~/opt/anaconda3/envs/drugrepochat/lib/python3.10/site-packages/langchain/chains/combine_documents/base.py:106\u001B[0m, in \u001B[0;36mBaseCombineDocumentsChain._call\u001B[0;34m(self, inputs, run_manager)\u001B[0m\n\u001B[1;32m    104\u001B[0m \u001B[38;5;66;03m# Other keys are assumed to be needed for LLM prediction\u001B[39;00m\n\u001B[1;32m    105\u001B[0m other_keys \u001B[38;5;241m=\u001B[39m {k: v \u001B[38;5;28;01mfor\u001B[39;00m k, v \u001B[38;5;129;01min\u001B[39;00m inputs\u001B[38;5;241m.\u001B[39mitems() \u001B[38;5;28;01mif\u001B[39;00m k \u001B[38;5;241m!=\u001B[39m \u001B[38;5;28mself\u001B[39m\u001B[38;5;241m.\u001B[39minput_key}\n\u001B[0;32m--> 106\u001B[0m output, extra_return_dict \u001B[38;5;241m=\u001B[39m \u001B[38;5;28;43mself\u001B[39;49m\u001B[38;5;241;43m.\u001B[39;49m\u001B[43mcombine_docs\u001B[49m\u001B[43m(\u001B[49m\n\u001B[1;32m    107\u001B[0m \u001B[43m    \u001B[49m\u001B[43mdocs\u001B[49m\u001B[43m,\u001B[49m\u001B[43m \u001B[49m\u001B[43mcallbacks\u001B[49m\u001B[38;5;241;43m=\u001B[39;49m\u001B[43m_run_manager\u001B[49m\u001B[38;5;241;43m.\u001B[39;49m\u001B[43mget_child\u001B[49m\u001B[43m(\u001B[49m\u001B[43m)\u001B[49m\u001B[43m,\u001B[49m\u001B[43m \u001B[49m\u001B[38;5;241;43m*\u001B[39;49m\u001B[38;5;241;43m*\u001B[39;49m\u001B[43mother_keys\u001B[49m\n\u001B[1;32m    108\u001B[0m \u001B[43m\u001B[49m\u001B[43m)\u001B[49m\n\u001B[1;32m    109\u001B[0m extra_return_dict[\u001B[38;5;28mself\u001B[39m\u001B[38;5;241m.\u001B[39moutput_key] \u001B[38;5;241m=\u001B[39m output\n\u001B[1;32m    110\u001B[0m \u001B[38;5;28;01mreturn\u001B[39;00m extra_return_dict\n",
      "File \u001B[0;32m~/opt/anaconda3/envs/drugrepochat/lib/python3.10/site-packages/langchain/chains/combine_documents/stuff.py:165\u001B[0m, in \u001B[0;36mStuffDocumentsChain.combine_docs\u001B[0;34m(self, docs, callbacks, **kwargs)\u001B[0m\n\u001B[1;32m    163\u001B[0m inputs \u001B[38;5;241m=\u001B[39m \u001B[38;5;28mself\u001B[39m\u001B[38;5;241m.\u001B[39m_get_inputs(docs, \u001B[38;5;241m*\u001B[39m\u001B[38;5;241m*\u001B[39mkwargs)\n\u001B[1;32m    164\u001B[0m \u001B[38;5;66;03m# Call predict on the LLM.\u001B[39;00m\n\u001B[0;32m--> 165\u001B[0m \u001B[38;5;28;01mreturn\u001B[39;00m \u001B[38;5;28;43mself\u001B[39;49m\u001B[38;5;241;43m.\u001B[39;49m\u001B[43mllm_chain\u001B[49m\u001B[38;5;241;43m.\u001B[39;49m\u001B[43mpredict\u001B[49m\u001B[43m(\u001B[49m\u001B[43mcallbacks\u001B[49m\u001B[38;5;241;43m=\u001B[39;49m\u001B[43mcallbacks\u001B[49m\u001B[43m,\u001B[49m\u001B[43m \u001B[49m\u001B[38;5;241;43m*\u001B[39;49m\u001B[38;5;241;43m*\u001B[39;49m\u001B[43minputs\u001B[49m\u001B[43m)\u001B[49m, {}\n",
      "File \u001B[0;32m~/opt/anaconda3/envs/drugrepochat/lib/python3.10/site-packages/langchain/chains/llm.py:252\u001B[0m, in \u001B[0;36mLLMChain.predict\u001B[0;34m(self, callbacks, **kwargs)\u001B[0m\n\u001B[1;32m    237\u001B[0m \u001B[38;5;28;01mdef\u001B[39;00m \u001B[38;5;21mpredict\u001B[39m(\u001B[38;5;28mself\u001B[39m, callbacks: Callbacks \u001B[38;5;241m=\u001B[39m \u001B[38;5;28;01mNone\u001B[39;00m, \u001B[38;5;241m*\u001B[39m\u001B[38;5;241m*\u001B[39mkwargs: Any) \u001B[38;5;241m-\u001B[39m\u001B[38;5;241m>\u001B[39m \u001B[38;5;28mstr\u001B[39m:\n\u001B[1;32m    238\u001B[0m \u001B[38;5;250m    \u001B[39m\u001B[38;5;124;03m\"\"\"Format prompt with kwargs and pass to LLM.\u001B[39;00m\n\u001B[1;32m    239\u001B[0m \n\u001B[1;32m    240\u001B[0m \u001B[38;5;124;03m    Args:\u001B[39;00m\n\u001B[0;32m   (...)\u001B[0m\n\u001B[1;32m    250\u001B[0m \u001B[38;5;124;03m            completion = llm.predict(adjective=\"funny\")\u001B[39;00m\n\u001B[1;32m    251\u001B[0m \u001B[38;5;124;03m    \"\"\"\u001B[39;00m\n\u001B[0;32m--> 252\u001B[0m     \u001B[38;5;28;01mreturn\u001B[39;00m \u001B[38;5;28;43mself\u001B[39;49m\u001B[43m(\u001B[49m\u001B[43mkwargs\u001B[49m\u001B[43m,\u001B[49m\u001B[43m \u001B[49m\u001B[43mcallbacks\u001B[49m\u001B[38;5;241;43m=\u001B[39;49m\u001B[43mcallbacks\u001B[49m\u001B[43m)\u001B[49m[\u001B[38;5;28mself\u001B[39m\u001B[38;5;241m.\u001B[39moutput_key]\n",
      "File \u001B[0;32m~/opt/anaconda3/envs/drugrepochat/lib/python3.10/site-packages/langchain/chains/base.py:243\u001B[0m, in \u001B[0;36mChain.__call__\u001B[0;34m(self, inputs, return_only_outputs, callbacks, tags, metadata, include_run_info)\u001B[0m\n\u001B[1;32m    241\u001B[0m \u001B[38;5;28;01mexcept\u001B[39;00m (\u001B[38;5;167;01mKeyboardInterrupt\u001B[39;00m, \u001B[38;5;167;01mException\u001B[39;00m) \u001B[38;5;28;01mas\u001B[39;00m e:\n\u001B[1;32m    242\u001B[0m     run_manager\u001B[38;5;241m.\u001B[39mon_chain_error(e)\n\u001B[0;32m--> 243\u001B[0m     \u001B[38;5;28;01mraise\u001B[39;00m e\n\u001B[1;32m    244\u001B[0m run_manager\u001B[38;5;241m.\u001B[39mon_chain_end(outputs)\n\u001B[1;32m    245\u001B[0m final_outputs: Dict[\u001B[38;5;28mstr\u001B[39m, Any] \u001B[38;5;241m=\u001B[39m \u001B[38;5;28mself\u001B[39m\u001B[38;5;241m.\u001B[39mprep_outputs(\n\u001B[1;32m    246\u001B[0m     inputs, outputs, return_only_outputs\n\u001B[1;32m    247\u001B[0m )\n",
      "File \u001B[0;32m~/opt/anaconda3/envs/drugrepochat/lib/python3.10/site-packages/langchain/chains/base.py:237\u001B[0m, in \u001B[0;36mChain.__call__\u001B[0;34m(self, inputs, return_only_outputs, callbacks, tags, metadata, include_run_info)\u001B[0m\n\u001B[1;32m    231\u001B[0m run_manager \u001B[38;5;241m=\u001B[39m callback_manager\u001B[38;5;241m.\u001B[39mon_chain_start(\n\u001B[1;32m    232\u001B[0m     dumpd(\u001B[38;5;28mself\u001B[39m),\n\u001B[1;32m    233\u001B[0m     inputs,\n\u001B[1;32m    234\u001B[0m )\n\u001B[1;32m    235\u001B[0m \u001B[38;5;28;01mtry\u001B[39;00m:\n\u001B[1;32m    236\u001B[0m     outputs \u001B[38;5;241m=\u001B[39m (\n\u001B[0;32m--> 237\u001B[0m         \u001B[38;5;28;43mself\u001B[39;49m\u001B[38;5;241;43m.\u001B[39;49m\u001B[43m_call\u001B[49m\u001B[43m(\u001B[49m\u001B[43minputs\u001B[49m\u001B[43m,\u001B[49m\u001B[43m \u001B[49m\u001B[43mrun_manager\u001B[49m\u001B[38;5;241;43m=\u001B[39;49m\u001B[43mrun_manager\u001B[49m\u001B[43m)\u001B[49m\n\u001B[1;32m    238\u001B[0m         \u001B[38;5;28;01mif\u001B[39;00m new_arg_supported\n\u001B[1;32m    239\u001B[0m         \u001B[38;5;28;01melse\u001B[39;00m \u001B[38;5;28mself\u001B[39m\u001B[38;5;241m.\u001B[39m_call(inputs)\n\u001B[1;32m    240\u001B[0m     )\n\u001B[1;32m    241\u001B[0m \u001B[38;5;28;01mexcept\u001B[39;00m (\u001B[38;5;167;01mKeyboardInterrupt\u001B[39;00m, \u001B[38;5;167;01mException\u001B[39;00m) \u001B[38;5;28;01mas\u001B[39;00m e:\n\u001B[1;32m    242\u001B[0m     run_manager\u001B[38;5;241m.\u001B[39mon_chain_error(e)\n",
      "File \u001B[0;32m~/opt/anaconda3/envs/drugrepochat/lib/python3.10/site-packages/langchain/chains/llm.py:92\u001B[0m, in \u001B[0;36mLLMChain._call\u001B[0;34m(self, inputs, run_manager)\u001B[0m\n\u001B[1;32m     87\u001B[0m \u001B[38;5;28;01mdef\u001B[39;00m \u001B[38;5;21m_call\u001B[39m(\n\u001B[1;32m     88\u001B[0m     \u001B[38;5;28mself\u001B[39m,\n\u001B[1;32m     89\u001B[0m     inputs: Dict[\u001B[38;5;28mstr\u001B[39m, Any],\n\u001B[1;32m     90\u001B[0m     run_manager: Optional[CallbackManagerForChainRun] \u001B[38;5;241m=\u001B[39m \u001B[38;5;28;01mNone\u001B[39;00m,\n\u001B[1;32m     91\u001B[0m ) \u001B[38;5;241m-\u001B[39m\u001B[38;5;241m>\u001B[39m Dict[\u001B[38;5;28mstr\u001B[39m, \u001B[38;5;28mstr\u001B[39m]:\n\u001B[0;32m---> 92\u001B[0m     response \u001B[38;5;241m=\u001B[39m \u001B[38;5;28;43mself\u001B[39;49m\u001B[38;5;241;43m.\u001B[39;49m\u001B[43mgenerate\u001B[49m\u001B[43m(\u001B[49m\u001B[43m[\u001B[49m\u001B[43minputs\u001B[49m\u001B[43m]\u001B[49m\u001B[43m,\u001B[49m\u001B[43m \u001B[49m\u001B[43mrun_manager\u001B[49m\u001B[38;5;241;43m=\u001B[39;49m\u001B[43mrun_manager\u001B[49m\u001B[43m)\u001B[49m\n\u001B[1;32m     93\u001B[0m     \u001B[38;5;28;01mreturn\u001B[39;00m \u001B[38;5;28mself\u001B[39m\u001B[38;5;241m.\u001B[39mcreate_outputs(response)[\u001B[38;5;241m0\u001B[39m]\n",
      "File \u001B[0;32m~/opt/anaconda3/envs/drugrepochat/lib/python3.10/site-packages/langchain/chains/llm.py:102\u001B[0m, in \u001B[0;36mLLMChain.generate\u001B[0;34m(self, input_list, run_manager)\u001B[0m\n\u001B[1;32m    100\u001B[0m \u001B[38;5;250m\u001B[39m\u001B[38;5;124;03m\"\"\"Generate LLM result from inputs.\"\"\"\u001B[39;00m\n\u001B[1;32m    101\u001B[0m prompts, stop \u001B[38;5;241m=\u001B[39m \u001B[38;5;28mself\u001B[39m\u001B[38;5;241m.\u001B[39mprep_prompts(input_list, run_manager\u001B[38;5;241m=\u001B[39mrun_manager)\n\u001B[0;32m--> 102\u001B[0m \u001B[38;5;28;01mreturn\u001B[39;00m \u001B[38;5;28;43mself\u001B[39;49m\u001B[38;5;241;43m.\u001B[39;49m\u001B[43mllm\u001B[49m\u001B[38;5;241;43m.\u001B[39;49m\u001B[43mgenerate_prompt\u001B[49m\u001B[43m(\u001B[49m\n\u001B[1;32m    103\u001B[0m \u001B[43m    \u001B[49m\u001B[43mprompts\u001B[49m\u001B[43m,\u001B[49m\n\u001B[1;32m    104\u001B[0m \u001B[43m    \u001B[49m\u001B[43mstop\u001B[49m\u001B[43m,\u001B[49m\n\u001B[1;32m    105\u001B[0m \u001B[43m    \u001B[49m\u001B[43mcallbacks\u001B[49m\u001B[38;5;241;43m=\u001B[39;49m\u001B[43mrun_manager\u001B[49m\u001B[38;5;241;43m.\u001B[39;49m\u001B[43mget_child\u001B[49m\u001B[43m(\u001B[49m\u001B[43m)\u001B[49m\u001B[43m \u001B[49m\u001B[38;5;28;43;01mif\u001B[39;49;00m\u001B[43m \u001B[49m\u001B[43mrun_manager\u001B[49m\u001B[43m \u001B[49m\u001B[38;5;28;43;01melse\u001B[39;49;00m\u001B[43m \u001B[49m\u001B[38;5;28;43;01mNone\u001B[39;49;00m\u001B[43m,\u001B[49m\n\u001B[1;32m    106\u001B[0m \u001B[43m    \u001B[49m\u001B[38;5;241;43m*\u001B[39;49m\u001B[38;5;241;43m*\u001B[39;49m\u001B[38;5;28;43mself\u001B[39;49m\u001B[38;5;241;43m.\u001B[39;49m\u001B[43mllm_kwargs\u001B[49m\u001B[43m,\u001B[49m\n\u001B[1;32m    107\u001B[0m \u001B[43m\u001B[49m\u001B[43m)\u001B[49m\n",
      "File \u001B[0;32m~/opt/anaconda3/envs/drugrepochat/lib/python3.10/site-packages/langchain/chat_models/base.py:230\u001B[0m, in \u001B[0;36mBaseChatModel.generate_prompt\u001B[0;34m(self, prompts, stop, callbacks, **kwargs)\u001B[0m\n\u001B[1;32m    222\u001B[0m \u001B[38;5;28;01mdef\u001B[39;00m \u001B[38;5;21mgenerate_prompt\u001B[39m(\n\u001B[1;32m    223\u001B[0m     \u001B[38;5;28mself\u001B[39m,\n\u001B[1;32m    224\u001B[0m     prompts: List[PromptValue],\n\u001B[0;32m   (...)\u001B[0m\n\u001B[1;32m    227\u001B[0m     \u001B[38;5;241m*\u001B[39m\u001B[38;5;241m*\u001B[39mkwargs: Any,\n\u001B[1;32m    228\u001B[0m ) \u001B[38;5;241m-\u001B[39m\u001B[38;5;241m>\u001B[39m LLMResult:\n\u001B[1;32m    229\u001B[0m     prompt_messages \u001B[38;5;241m=\u001B[39m [p\u001B[38;5;241m.\u001B[39mto_messages() \u001B[38;5;28;01mfor\u001B[39;00m p \u001B[38;5;129;01min\u001B[39;00m prompts]\n\u001B[0;32m--> 230\u001B[0m     \u001B[38;5;28;01mreturn\u001B[39;00m \u001B[38;5;28;43mself\u001B[39;49m\u001B[38;5;241;43m.\u001B[39;49m\u001B[43mgenerate\u001B[49m\u001B[43m(\u001B[49m\u001B[43mprompt_messages\u001B[49m\u001B[43m,\u001B[49m\u001B[43m \u001B[49m\u001B[43mstop\u001B[49m\u001B[38;5;241;43m=\u001B[39;49m\u001B[43mstop\u001B[49m\u001B[43m,\u001B[49m\u001B[43m \u001B[49m\u001B[43mcallbacks\u001B[49m\u001B[38;5;241;43m=\u001B[39;49m\u001B[43mcallbacks\u001B[49m\u001B[43m,\u001B[49m\u001B[43m \u001B[49m\u001B[38;5;241;43m*\u001B[39;49m\u001B[38;5;241;43m*\u001B[39;49m\u001B[43mkwargs\u001B[49m\u001B[43m)\u001B[49m\n",
      "File \u001B[0;32m~/opt/anaconda3/envs/drugrepochat/lib/python3.10/site-packages/langchain/chat_models/base.py:125\u001B[0m, in \u001B[0;36mBaseChatModel.generate\u001B[0;34m(self, messages, stop, callbacks, tags, metadata, **kwargs)\u001B[0m\n\u001B[1;32m    123\u001B[0m         \u001B[38;5;28;01mif\u001B[39;00m run_managers:\n\u001B[1;32m    124\u001B[0m             run_managers[i]\u001B[38;5;241m.\u001B[39mon_llm_error(e)\n\u001B[0;32m--> 125\u001B[0m         \u001B[38;5;28;01mraise\u001B[39;00m e\n\u001B[1;32m    126\u001B[0m flattened_outputs \u001B[38;5;241m=\u001B[39m [\n\u001B[1;32m    127\u001B[0m     LLMResult(generations\u001B[38;5;241m=\u001B[39m[res\u001B[38;5;241m.\u001B[39mgenerations], llm_output\u001B[38;5;241m=\u001B[39mres\u001B[38;5;241m.\u001B[39mllm_output)\n\u001B[1;32m    128\u001B[0m     \u001B[38;5;28;01mfor\u001B[39;00m res \u001B[38;5;129;01min\u001B[39;00m results\n\u001B[1;32m    129\u001B[0m ]\n\u001B[1;32m    130\u001B[0m llm_output \u001B[38;5;241m=\u001B[39m \u001B[38;5;28mself\u001B[39m\u001B[38;5;241m.\u001B[39m_combine_llm_outputs([res\u001B[38;5;241m.\u001B[39mllm_output \u001B[38;5;28;01mfor\u001B[39;00m res \u001B[38;5;129;01min\u001B[39;00m results])\n",
      "File \u001B[0;32m~/opt/anaconda3/envs/drugrepochat/lib/python3.10/site-packages/langchain/chat_models/base.py:115\u001B[0m, in \u001B[0;36mBaseChatModel.generate\u001B[0;34m(self, messages, stop, callbacks, tags, metadata, **kwargs)\u001B[0m\n\u001B[1;32m    112\u001B[0m \u001B[38;5;28;01mfor\u001B[39;00m i, m \u001B[38;5;129;01min\u001B[39;00m \u001B[38;5;28menumerate\u001B[39m(messages):\n\u001B[1;32m    113\u001B[0m     \u001B[38;5;28;01mtry\u001B[39;00m:\n\u001B[1;32m    114\u001B[0m         results\u001B[38;5;241m.\u001B[39mappend(\n\u001B[0;32m--> 115\u001B[0m             \u001B[38;5;28;43mself\u001B[39;49m\u001B[38;5;241;43m.\u001B[39;49m\u001B[43m_generate_with_cache\u001B[49m\u001B[43m(\u001B[49m\n\u001B[1;32m    116\u001B[0m \u001B[43m                \u001B[49m\u001B[43mm\u001B[49m\u001B[43m,\u001B[49m\n\u001B[1;32m    117\u001B[0m \u001B[43m                \u001B[49m\u001B[43mstop\u001B[49m\u001B[38;5;241;43m=\u001B[39;49m\u001B[43mstop\u001B[49m\u001B[43m,\u001B[49m\n\u001B[1;32m    118\u001B[0m \u001B[43m                \u001B[49m\u001B[43mrun_manager\u001B[49m\u001B[38;5;241;43m=\u001B[39;49m\u001B[43mrun_managers\u001B[49m\u001B[43m[\u001B[49m\u001B[43mi\u001B[49m\u001B[43m]\u001B[49m\u001B[43m \u001B[49m\u001B[38;5;28;43;01mif\u001B[39;49;00m\u001B[43m \u001B[49m\u001B[43mrun_managers\u001B[49m\u001B[43m \u001B[49m\u001B[38;5;28;43;01melse\u001B[39;49;00m\u001B[43m \u001B[49m\u001B[38;5;28;43;01mNone\u001B[39;49;00m\u001B[43m,\u001B[49m\n\u001B[1;32m    119\u001B[0m \u001B[43m                \u001B[49m\u001B[38;5;241;43m*\u001B[39;49m\u001B[38;5;241;43m*\u001B[39;49m\u001B[43mkwargs\u001B[49m\u001B[43m,\u001B[49m\n\u001B[1;32m    120\u001B[0m \u001B[43m            \u001B[49m\u001B[43m)\u001B[49m\n\u001B[1;32m    121\u001B[0m         )\n\u001B[1;32m    122\u001B[0m     \u001B[38;5;28;01mexcept\u001B[39;00m (\u001B[38;5;167;01mKeyboardInterrupt\u001B[39;00m, \u001B[38;5;167;01mException\u001B[39;00m) \u001B[38;5;28;01mas\u001B[39;00m e:\n\u001B[1;32m    123\u001B[0m         \u001B[38;5;28;01mif\u001B[39;00m run_managers:\n",
      "File \u001B[0;32m~/opt/anaconda3/envs/drugrepochat/lib/python3.10/site-packages/langchain/chat_models/base.py:262\u001B[0m, in \u001B[0;36mBaseChatModel._generate_with_cache\u001B[0;34m(self, messages, stop, run_manager, **kwargs)\u001B[0m\n\u001B[1;32m    258\u001B[0m     \u001B[38;5;28;01mraise\u001B[39;00m \u001B[38;5;167;01mValueError\u001B[39;00m(\n\u001B[1;32m    259\u001B[0m         \u001B[38;5;124m\"\u001B[39m\u001B[38;5;124mAsked to cache, but no cache found at `langchain.cache`.\u001B[39m\u001B[38;5;124m\"\u001B[39m\n\u001B[1;32m    260\u001B[0m     )\n\u001B[1;32m    261\u001B[0m \u001B[38;5;28;01mif\u001B[39;00m new_arg_supported:\n\u001B[0;32m--> 262\u001B[0m     \u001B[38;5;28;01mreturn\u001B[39;00m \u001B[38;5;28;43mself\u001B[39;49m\u001B[38;5;241;43m.\u001B[39;49m\u001B[43m_generate\u001B[49m\u001B[43m(\u001B[49m\n\u001B[1;32m    263\u001B[0m \u001B[43m        \u001B[49m\u001B[43mmessages\u001B[49m\u001B[43m,\u001B[49m\u001B[43m \u001B[49m\u001B[43mstop\u001B[49m\u001B[38;5;241;43m=\u001B[39;49m\u001B[43mstop\u001B[49m\u001B[43m,\u001B[49m\u001B[43m \u001B[49m\u001B[43mrun_manager\u001B[49m\u001B[38;5;241;43m=\u001B[39;49m\u001B[43mrun_manager\u001B[49m\u001B[43m,\u001B[49m\u001B[43m \u001B[49m\u001B[38;5;241;43m*\u001B[39;49m\u001B[38;5;241;43m*\u001B[39;49m\u001B[43mkwargs\u001B[49m\n\u001B[1;32m    264\u001B[0m \u001B[43m    \u001B[49m\u001B[43m)\u001B[49m\n\u001B[1;32m    265\u001B[0m \u001B[38;5;28;01melse\u001B[39;00m:\n\u001B[1;32m    266\u001B[0m     \u001B[38;5;28;01mreturn\u001B[39;00m \u001B[38;5;28mself\u001B[39m\u001B[38;5;241m.\u001B[39m_generate(messages, stop\u001B[38;5;241m=\u001B[39mstop, \u001B[38;5;241m*\u001B[39m\u001B[38;5;241m*\u001B[39mkwargs)\n",
      "File \u001B[0;32m~/opt/anaconda3/envs/drugrepochat/lib/python3.10/site-packages/langchain/chat_models/openai.py:371\u001B[0m, in \u001B[0;36mChatOpenAI._generate\u001B[0;34m(self, messages, stop, run_manager, **kwargs)\u001B[0m\n\u001B[1;32m    363\u001B[0m     message \u001B[38;5;241m=\u001B[39m _convert_dict_to_message(\n\u001B[1;32m    364\u001B[0m         {\n\u001B[1;32m    365\u001B[0m             \u001B[38;5;124m\"\u001B[39m\u001B[38;5;124mcontent\u001B[39m\u001B[38;5;124m\"\u001B[39m: inner_completion,\n\u001B[0;32m   (...)\u001B[0m\n\u001B[1;32m    368\u001B[0m         }\n\u001B[1;32m    369\u001B[0m     )\n\u001B[1;32m    370\u001B[0m     \u001B[38;5;28;01mreturn\u001B[39;00m ChatResult(generations\u001B[38;5;241m=\u001B[39m[ChatGeneration(message\u001B[38;5;241m=\u001B[39mmessage)])\n\u001B[0;32m--> 371\u001B[0m response \u001B[38;5;241m=\u001B[39m \u001B[38;5;28;43mself\u001B[39;49m\u001B[38;5;241;43m.\u001B[39;49m\u001B[43mcompletion_with_retry\u001B[49m\u001B[43m(\u001B[49m\u001B[43mmessages\u001B[49m\u001B[38;5;241;43m=\u001B[39;49m\u001B[43mmessage_dicts\u001B[49m\u001B[43m,\u001B[49m\u001B[43m \u001B[49m\u001B[38;5;241;43m*\u001B[39;49m\u001B[38;5;241;43m*\u001B[39;49m\u001B[43mparams\u001B[49m\u001B[43m)\u001B[49m\n\u001B[1;32m    372\u001B[0m \u001B[38;5;28;01mreturn\u001B[39;00m \u001B[38;5;28mself\u001B[39m\u001B[38;5;241m.\u001B[39m_create_chat_result(response)\n",
      "File \u001B[0;32m~/opt/anaconda3/envs/drugrepochat/lib/python3.10/site-packages/langchain/chat_models/openai.py:319\u001B[0m, in \u001B[0;36mChatOpenAI.completion_with_retry\u001B[0;34m(self, **kwargs)\u001B[0m\n\u001B[1;32m    315\u001B[0m \u001B[38;5;129m@retry_decorator\u001B[39m\n\u001B[1;32m    316\u001B[0m \u001B[38;5;28;01mdef\u001B[39;00m \u001B[38;5;21m_completion_with_retry\u001B[39m(\u001B[38;5;241m*\u001B[39m\u001B[38;5;241m*\u001B[39mkwargs: Any) \u001B[38;5;241m-\u001B[39m\u001B[38;5;241m>\u001B[39m Any:\n\u001B[1;32m    317\u001B[0m     \u001B[38;5;28;01mreturn\u001B[39;00m \u001B[38;5;28mself\u001B[39m\u001B[38;5;241m.\u001B[39mclient\u001B[38;5;241m.\u001B[39mcreate(\u001B[38;5;241m*\u001B[39m\u001B[38;5;241m*\u001B[39mkwargs)\n\u001B[0;32m--> 319\u001B[0m \u001B[38;5;28;01mreturn\u001B[39;00m \u001B[43m_completion_with_retry\u001B[49m\u001B[43m(\u001B[49m\u001B[38;5;241;43m*\u001B[39;49m\u001B[38;5;241;43m*\u001B[39;49m\u001B[43mkwargs\u001B[49m\u001B[43m)\u001B[49m\n",
      "File \u001B[0;32m~/opt/anaconda3/envs/drugrepochat/lib/python3.10/site-packages/tenacity/__init__.py:289\u001B[0m, in \u001B[0;36mBaseRetrying.wraps.<locals>.wrapped_f\u001B[0;34m(*args, **kw)\u001B[0m\n\u001B[1;32m    287\u001B[0m \u001B[38;5;129m@functools\u001B[39m\u001B[38;5;241m.\u001B[39mwraps(f)\n\u001B[1;32m    288\u001B[0m \u001B[38;5;28;01mdef\u001B[39;00m \u001B[38;5;21mwrapped_f\u001B[39m(\u001B[38;5;241m*\u001B[39margs: t\u001B[38;5;241m.\u001B[39mAny, \u001B[38;5;241m*\u001B[39m\u001B[38;5;241m*\u001B[39mkw: t\u001B[38;5;241m.\u001B[39mAny) \u001B[38;5;241m-\u001B[39m\u001B[38;5;241m>\u001B[39m t\u001B[38;5;241m.\u001B[39mAny:\n\u001B[0;32m--> 289\u001B[0m     \u001B[38;5;28;01mreturn\u001B[39;00m \u001B[38;5;28;43mself\u001B[39;49m\u001B[43m(\u001B[49m\u001B[43mf\u001B[49m\u001B[43m,\u001B[49m\u001B[43m \u001B[49m\u001B[38;5;241;43m*\u001B[39;49m\u001B[43margs\u001B[49m\u001B[43m,\u001B[49m\u001B[43m \u001B[49m\u001B[38;5;241;43m*\u001B[39;49m\u001B[38;5;241;43m*\u001B[39;49m\u001B[43mkw\u001B[49m\u001B[43m)\u001B[49m\n",
      "File \u001B[0;32m~/opt/anaconda3/envs/drugrepochat/lib/python3.10/site-packages/tenacity/__init__.py:389\u001B[0m, in \u001B[0;36mRetrying.__call__\u001B[0;34m(self, fn, *args, **kwargs)\u001B[0m\n\u001B[1;32m    387\u001B[0m \u001B[38;5;28;01melif\u001B[39;00m \u001B[38;5;28misinstance\u001B[39m(do, DoSleep):\n\u001B[1;32m    388\u001B[0m     retry_state\u001B[38;5;241m.\u001B[39mprepare_for_next_attempt()\n\u001B[0;32m--> 389\u001B[0m     \u001B[38;5;28;43mself\u001B[39;49m\u001B[38;5;241;43m.\u001B[39;49m\u001B[43msleep\u001B[49m\u001B[43m(\u001B[49m\u001B[43mdo\u001B[49m\u001B[43m)\u001B[49m\n\u001B[1;32m    390\u001B[0m \u001B[38;5;28;01melse\u001B[39;00m:\n\u001B[1;32m    391\u001B[0m     \u001B[38;5;28;01mreturn\u001B[39;00m do\n",
      "File \u001B[0;32m~/opt/anaconda3/envs/drugrepochat/lib/python3.10/site-packages/tenacity/nap.py:31\u001B[0m, in \u001B[0;36msleep\u001B[0;34m(seconds)\u001B[0m\n\u001B[1;32m     25\u001B[0m \u001B[38;5;28;01mdef\u001B[39;00m \u001B[38;5;21msleep\u001B[39m(seconds: \u001B[38;5;28mfloat\u001B[39m) \u001B[38;5;241m-\u001B[39m\u001B[38;5;241m>\u001B[39m \u001B[38;5;28;01mNone\u001B[39;00m:\n\u001B[1;32m     26\u001B[0m \u001B[38;5;250m    \u001B[39m\u001B[38;5;124;03m\"\"\"\u001B[39;00m\n\u001B[1;32m     27\u001B[0m \u001B[38;5;124;03m    Sleep strategy that delays execution for a given number of seconds.\u001B[39;00m\n\u001B[1;32m     28\u001B[0m \n\u001B[1;32m     29\u001B[0m \u001B[38;5;124;03m    This is the default strategy, and may be mocked out for unit testing.\u001B[39;00m\n\u001B[1;32m     30\u001B[0m \u001B[38;5;124;03m    \"\"\"\u001B[39;00m\n\u001B[0;32m---> 31\u001B[0m     \u001B[43mtime\u001B[49m\u001B[38;5;241;43m.\u001B[39;49m\u001B[43msleep\u001B[49m\u001B[43m(\u001B[49m\u001B[43mseconds\u001B[49m\u001B[43m)\u001B[49m\n",
      "\u001B[0;31mKeyboardInterrupt\u001B[0m: "
     ]
    }
   ],
   "source": [
    "\n",
    "# Create the chain to answer questions\n",
    "qa_chain = RetrievalQA.from_chain_type(llm=ChatOpenAI(temperature = 0.0, model='gpt-3.5-turbo'),\n",
    "                                  chain_type=\"stuff\",\n",
    "                                  retriever=index.as_retriever(),\n",
    "                                  return_source_documents=True,\n",
    "                                  verbose=True)\n",
    "\n",
    "# Cite sources\n",
    "def process_llm_response(llm_response):\n",
    "    print(llm_response['result'])\n",
    "    print('\\n\\nSources:')\n",
    "    for source in llm_response[\"source_documents\"]:\n",
    "        print(source.metadata['DOI'])\n",
    "        \n",
    "# Question\n",
    "query = \"Who is Yajie Meng?\"\n",
    "llm_response = qa_chain(prompt.format_prompt(user_prompt=query).to_string())\n",
    "process_llm_response(llm_response)"
   ]
  }
 ],
 "metadata": {
  "kernelspec": {
   "display_name": "Python 3 (ipykernel)",
   "language": "python",
   "name": "python3"
  },
  "language_info": {
   "codemirror_mode": {
    "name": "ipython",
    "version": 3
   },
   "file_extension": ".py",
   "mimetype": "text/x-python",
   "name": "python",
   "nbconvert_exporter": "python",
   "pygments_lexer": "ipython3",
   "version": "3.10.12"
  },
  "toc-autonumbering": true
 },
 "nbformat": 4,
 "nbformat_minor": 5
}
